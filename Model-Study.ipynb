{
 "cells": [
  {
   "cell_type": "markdown",
   "metadata": {},
   "source": [
    "# Open data analysis and model to predict the League of Legends World Championship (Python version)"
   ]
  },
  {
   "cell_type": "markdown",
   "metadata": {},
   "source": [
    "## Formmating and preparing train and test data"
   ]
  },
  {
   "cell_type": "code",
   "execution_count": 15,
   "metadata": {},
   "outputs": [],
   "source": [
    "import pandas as pd\n",
    "import numpy as np\n",
    "import matplotlib.pyplot as plt\n",
    "import os\n",
    "\n",
    "#directory_changed = False ## un comment this only the first time this cell is run\n",
    "\n",
    "if(directory_changed == False):\n",
    "    current_path = os.getcwd()\n",
    "    inputs_path = current_path + '/data'\n",
    "    os.chdir(inputs_path)\n",
    "\n",
    "train_file = 'train_data.csv'\n",
    "test_file = 'test_data.csv'\n",
    "\n",
    "directory_changed = True"
   ]
  },
  {
   "cell_type": "code",
   "execution_count": 2,
   "metadata": {},
   "outputs": [],
   "source": [
    "train_df= pd.read_csv(train_file)\n",
    "test_df = pd.read_csv(test_file)"
   ]
  },
  {
   "cell_type": "code",
   "execution_count": 3,
   "metadata": {},
   "outputs": [
    {
     "data": {
      "text/html": [
       "<div>\n",
       "<style>\n",
       "    .dataframe thead tr:only-child th {\n",
       "        text-align: right;\n",
       "    }\n",
       "\n",
       "    .dataframe thead th {\n",
       "        text-align: left;\n",
       "    }\n",
       "\n",
       "    .dataframe tbody tr th {\n",
       "        vertical-align: top;\n",
       "    }\n",
       "</style>\n",
       "<table border=\"1\" class=\"dataframe\">\n",
       "  <thead>\n",
       "    <tr style=\"text-align: right;\">\n",
       "      <th></th>\n",
       "      <th>result</th>\n",
       "      <th>team</th>\n",
       "      <th>side</th>\n",
       "      <th>topwr_champ</th>\n",
       "      <th>jngwr_champ</th>\n",
       "      <th>midwr_champ</th>\n",
       "      <th>adcwr_champ</th>\n",
       "      <th>supwr_champ</th>\n",
       "      <th>topwr_player</th>\n",
       "      <th>jngwr_player</th>\n",
       "      <th>midwr_player</th>\n",
       "      <th>adcwr_player</th>\n",
       "      <th>supwr_player</th>\n",
       "    </tr>\n",
       "  </thead>\n",
       "  <tbody>\n",
       "    <tr>\n",
       "      <th>0</th>\n",
       "      <td>1</td>\n",
       "      <td>Team WE</td>\n",
       "      <td>Blue</td>\n",
       "      <td>0.5000</td>\n",
       "      <td>0.4954</td>\n",
       "      <td>0.4928</td>\n",
       "      <td>0.5008</td>\n",
       "      <td>0.5318</td>\n",
       "      <td>0.581536</td>\n",
       "      <td>0.596491</td>\n",
       "      <td>0.656250</td>\n",
       "      <td>0.619048</td>\n",
       "      <td>1.000000</td>\n",
       "    </tr>\n",
       "    <tr>\n",
       "      <th>1</th>\n",
       "      <td>0</td>\n",
       "      <td>Lyon Gaming</td>\n",
       "      <td>Red</td>\n",
       "      <td>0.5000</td>\n",
       "      <td>0.5046</td>\n",
       "      <td>0.5072</td>\n",
       "      <td>0.4992</td>\n",
       "      <td>0.4682</td>\n",
       "      <td>0.545455</td>\n",
       "      <td>0.777778</td>\n",
       "      <td>0.500000</td>\n",
       "      <td>0.000000</td>\n",
       "      <td>0.600000</td>\n",
       "    </tr>\n",
       "    <tr>\n",
       "      <th>2</th>\n",
       "      <td>1</td>\n",
       "      <td>Cloud9</td>\n",
       "      <td>Blue</td>\n",
       "      <td>0.4391</td>\n",
       "      <td>0.4966</td>\n",
       "      <td>0.5562</td>\n",
       "      <td>0.5008</td>\n",
       "      <td>0.4786</td>\n",
       "      <td>0.700000</td>\n",
       "      <td>0.563228</td>\n",
       "      <td>0.733333</td>\n",
       "      <td>0.555556</td>\n",
       "      <td>0.636364</td>\n",
       "    </tr>\n",
       "    <tr>\n",
       "      <th>3</th>\n",
       "      <td>0</td>\n",
       "      <td>Team oNe Esports</td>\n",
       "      <td>Red</td>\n",
       "      <td>0.5609</td>\n",
       "      <td>0.5034</td>\n",
       "      <td>0.4438</td>\n",
       "      <td>0.4992</td>\n",
       "      <td>0.5214</td>\n",
       "      <td>0.500000</td>\n",
       "      <td>0.500000</td>\n",
       "      <td>0.000000</td>\n",
       "      <td>0.000000</td>\n",
       "      <td>0.000000</td>\n",
       "    </tr>\n",
       "    <tr>\n",
       "      <th>4</th>\n",
       "      <td>0</td>\n",
       "      <td>Gambit Esports</td>\n",
       "      <td>Blue</td>\n",
       "      <td>0.4837</td>\n",
       "      <td>0.4750</td>\n",
       "      <td>0.3970</td>\n",
       "      <td>0.4912</td>\n",
       "      <td>0.4950</td>\n",
       "      <td>0.333333</td>\n",
       "      <td>0.588235</td>\n",
       "      <td>0.500000</td>\n",
       "      <td>0.500000</td>\n",
       "      <td>0.500000</td>\n",
       "    </tr>\n",
       "  </tbody>\n",
       "</table>\n",
       "</div>"
      ],
      "text/plain": [
       "   result              team  side  topwr_champ  jngwr_champ  midwr_champ  \\\n",
       "0       1           Team WE  Blue       0.5000       0.4954       0.4928   \n",
       "1       0       Lyon Gaming   Red       0.5000       0.5046       0.5072   \n",
       "2       1            Cloud9  Blue       0.4391       0.4966       0.5562   \n",
       "3       0  Team oNe Esports   Red       0.5609       0.5034       0.4438   \n",
       "4       0    Gambit Esports  Blue       0.4837       0.4750       0.3970   \n",
       "\n",
       "   adcwr_champ  supwr_champ  topwr_player  jngwr_player  midwr_player  \\\n",
       "0       0.5008       0.5318      0.581536      0.596491      0.656250   \n",
       "1       0.4992       0.4682      0.545455      0.777778      0.500000   \n",
       "2       0.5008       0.4786      0.700000      0.563228      0.733333   \n",
       "3       0.4992       0.5214      0.500000      0.500000      0.000000   \n",
       "4       0.4912       0.4950      0.333333      0.588235      0.500000   \n",
       "\n",
       "   adcwr_player  supwr_player  \n",
       "0      0.619048      1.000000  \n",
       "1      0.000000      0.600000  \n",
       "2      0.555556      0.636364  \n",
       "3      0.000000      0.000000  \n",
       "4      0.500000      0.500000  "
      ]
     },
     "execution_count": 3,
     "metadata": {},
     "output_type": "execute_result"
    }
   ],
   "source": [
    "train_df.head()"
   ]
  },
  {
   "cell_type": "code",
   "execution_count": 4,
   "metadata": {
    "scrolled": true
   },
   "outputs": [
    {
     "data": {
      "text/html": [
       "<div>\n",
       "<style>\n",
       "    .dataframe thead tr:only-child th {\n",
       "        text-align: right;\n",
       "    }\n",
       "\n",
       "    .dataframe thead th {\n",
       "        text-align: left;\n",
       "    }\n",
       "\n",
       "    .dataframe tbody tr th {\n",
       "        vertical-align: top;\n",
       "    }\n",
       "</style>\n",
       "<table border=\"1\" class=\"dataframe\">\n",
       "  <thead>\n",
       "    <tr style=\"text-align: right;\">\n",
       "      <th></th>\n",
       "      <th>result</th>\n",
       "      <th>team</th>\n",
       "      <th>side</th>\n",
       "      <th>topwr_champ</th>\n",
       "      <th>jngwr_champ</th>\n",
       "      <th>midwr_champ</th>\n",
       "      <th>adcwr_champ</th>\n",
       "      <th>supwr_champ</th>\n",
       "      <th>topwr_player</th>\n",
       "      <th>jngwr_player</th>\n",
       "      <th>midwr_player</th>\n",
       "      <th>adcwr_player</th>\n",
       "      <th>supwr_player</th>\n",
       "    </tr>\n",
       "  </thead>\n",
       "  <tbody>\n",
       "    <tr>\n",
       "      <th>0</th>\n",
       "      <td>0</td>\n",
       "      <td>Longzhu Gaming</td>\n",
       "      <td>Blue</td>\n",
       "      <td>0.4809</td>\n",
       "      <td>0.5204</td>\n",
       "      <td>0.4417</td>\n",
       "      <td>0.4912</td>\n",
       "      <td>0.4975</td>\n",
       "      <td>0.875000</td>\n",
       "      <td>0.333333</td>\n",
       "      <td>0.285714</td>\n",
       "      <td>0.500000</td>\n",
       "      <td>0.660000</td>\n",
       "    </tr>\n",
       "    <tr>\n",
       "      <th>1</th>\n",
       "      <td>1</td>\n",
       "      <td>Samsung Galaxy</td>\n",
       "      <td>Red</td>\n",
       "      <td>0.5191</td>\n",
       "      <td>0.4796</td>\n",
       "      <td>0.5583</td>\n",
       "      <td>0.5088</td>\n",
       "      <td>0.5025</td>\n",
       "      <td>0.529412</td>\n",
       "      <td>0.750000</td>\n",
       "      <td>1.000000</td>\n",
       "      <td>0.461538</td>\n",
       "      <td>0.750000</td>\n",
       "    </tr>\n",
       "    <tr>\n",
       "      <th>2</th>\n",
       "      <td>0</td>\n",
       "      <td>Longzhu Gaming</td>\n",
       "      <td>Blue</td>\n",
       "      <td>0.5000</td>\n",
       "      <td>0.5204</td>\n",
       "      <td>0.5003</td>\n",
       "      <td>0.4878</td>\n",
       "      <td>0.4876</td>\n",
       "      <td>0.508497</td>\n",
       "      <td>0.333333</td>\n",
       "      <td>0.666667</td>\n",
       "      <td>0.500000</td>\n",
       "      <td>0.357143</td>\n",
       "    </tr>\n",
       "    <tr>\n",
       "      <th>3</th>\n",
       "      <td>1</td>\n",
       "      <td>Samsung Galaxy</td>\n",
       "      <td>Red</td>\n",
       "      <td>0.5000</td>\n",
       "      <td>0.4796</td>\n",
       "      <td>0.4997</td>\n",
       "      <td>0.5122</td>\n",
       "      <td>0.5124</td>\n",
       "      <td>0.666667</td>\n",
       "      <td>0.750000</td>\n",
       "      <td>0.695652</td>\n",
       "      <td>0.461538</td>\n",
       "      <td>0.500000</td>\n",
       "    </tr>\n",
       "    <tr>\n",
       "      <th>4</th>\n",
       "      <td>1</td>\n",
       "      <td>Samsung Galaxy</td>\n",
       "      <td>Blue</td>\n",
       "      <td>0.4853</td>\n",
       "      <td>0.5222</td>\n",
       "      <td>0.4984</td>\n",
       "      <td>0.5122</td>\n",
       "      <td>0.5497</td>\n",
       "      <td>0.666667</td>\n",
       "      <td>0.750000</td>\n",
       "      <td>0.625000</td>\n",
       "      <td>0.461538</td>\n",
       "      <td>0.500000</td>\n",
       "    </tr>\n",
       "  </tbody>\n",
       "</table>\n",
       "</div>"
      ],
      "text/plain": [
       "   result            team  side  topwr_champ  jngwr_champ  midwr_champ  \\\n",
       "0       0  Longzhu Gaming  Blue       0.4809       0.5204       0.4417   \n",
       "1       1  Samsung Galaxy   Red       0.5191       0.4796       0.5583   \n",
       "2       0  Longzhu Gaming  Blue       0.5000       0.5204       0.5003   \n",
       "3       1  Samsung Galaxy   Red       0.5000       0.4796       0.4997   \n",
       "4       1  Samsung Galaxy  Blue       0.4853       0.5222       0.4984   \n",
       "\n",
       "   adcwr_champ  supwr_champ  topwr_player  jngwr_player  midwr_player  \\\n",
       "0       0.4912       0.4975      0.875000      0.333333      0.285714   \n",
       "1       0.5088       0.5025      0.529412      0.750000      1.000000   \n",
       "2       0.4878       0.4876      0.508497      0.333333      0.666667   \n",
       "3       0.5122       0.5124      0.666667      0.750000      0.695652   \n",
       "4       0.5122       0.5497      0.666667      0.750000      0.625000   \n",
       "\n",
       "   adcwr_player  supwr_player  \n",
       "0      0.500000      0.660000  \n",
       "1      0.461538      0.750000  \n",
       "2      0.500000      0.357143  \n",
       "3      0.461538      0.500000  \n",
       "4      0.461538      0.500000  "
      ]
     },
     "execution_count": 4,
     "metadata": {},
     "output_type": "execute_result"
    }
   ],
   "source": [
    "test_df.head()"
   ]
  },
  {
   "cell_type": "markdown",
   "metadata": {},
   "source": [
    "We need to convert the *team* and *side* variables to cathegorical variables"
   ]
  },
  {
   "cell_type": "code",
   "execution_count": 8,
   "metadata": {},
   "outputs": [],
   "source": [
    "train_df[\"team\"] = train_df[\"team\"].astype(\"category\")\n",
    "train_df[\"side\"] = train_df[\"side\"].astype(\"category\")"
   ]
  },
  {
   "cell_type": "code",
   "execution_count": 17,
   "metadata": {},
   "outputs": [],
   "source": [
    "teams = train_df[\"team\"].unique()"
   ]
  },
  {
   "cell_type": "code",
   "execution_count": 16,
   "metadata": {},
   "outputs": [
    {
     "data": {
      "text/plain": [
       "<matplotlib.legend.Legend at 0x7f8fbb8fa5c0>"
      ]
     },
     "execution_count": 16,
     "metadata": {},
     "output_type": "execute_result"
    },
    {
     "data": {
      "text/plain": [
       "<matplotlib.figure.Figure at 0x7f8fbb951630>"
      ]
     },
     "metadata": {},
     "output_type": "display_data"
    },
    {
     "data": {
      "image/png": "[encoded data removed]",
      "text/plain": [
       "<matplotlib.figure.Figure at 0x7f8fbb8fa9e8>"
      ]
     },
     "metadata": {},
     "output_type": "display_data"
    }
   ],
   "source": [
    "mean_df = train_df.groupby('team').mean()\n",
    "%matplotlib inline\n",
    "plt.figure(); mean_df.plot(); plt.legend(loc='best')"
   ]
  },
  {
   "cell_type": "markdown",
   "metadata": {},
   "source": [
    "We are going to substitute the *team* feature by the *region* feature. There are 12 different\n",
    "regions where each team can play. Thus we are reducing the dimensionality of *team* from 24\n",
    "to 12.\n",
    "\n",
    "Regions and teams available at: https://lol.gamepedia.com/2017_Season_World_Championship\n",
    "\n",
    "The regions of teams that were not classified to the Groups stage during the Play-in stage are included all\n",
    "in the region catheogry \"Other\".\n"
   ]
  },
  {
   "cell_type": "code",
   "execution_count": 19,
   "metadata": {},
   "outputs": [
    {
     "name": "stdout",
     "output_type": "stream",
     "text": [
      "Team WE\n",
      "Lyon Gaming\n",
      "Cloud9\n",
      "Team oNe Esports\n",
      "Gambit Esports\n",
      "Dire Wolves\n",
      "Young Generation\n",
      "Kaos Latin Gamers\n",
      "Rampage\n",
      "Hong Kong Attitude\n",
      "Fnatic\n",
      "Fenerbahce Esports\n",
      "Royal Never Give Up\n",
      "G2 Esports\n",
      "Samsung Galaxy\n",
      "Longzhu Gaming\n",
      "Immortals\n",
      "Gigabyte Marines\n",
      "SK Telecom T1\n",
      "EDward Gaming\n",
      "AHQ e-Sports Club\n",
      "Flash Wolves\n",
      "Team SoloMid\n",
      "Misfits\n"
     ]
    }
   ],
   "source": [
    "for team in teams:\n",
    "    print(team)"
   ]
  },
  {
   "cell_type": "code",
   "execution_count": 23,
   "metadata": {},
   "outputs": [],
   "source": [
    "team2region = {\n",
    "    'Team WE': 'CN',\n",
    "    'Lyon Gaming': 'Other',\n",
    "    'Cloud9': 'NA',\n",
    "    'Team oNe Esports': 'Other',\n",
    "    'Gambit Esports': 'Other',\n",
    "    'Dire Wolves': 'Other',\n",
    "    'Young Generation': 'Other',\n",
    "    'Kaos Latin Gamers': 'Other',\n",
    "    'Rampage': 'Other',\n",
    "    'Hong Kong Attitude': 'TW',\n",
    "    'Fnatic': 'EU',\n",
    "    'Fenerbahce Esports': 'TR',\n",
    "    'Royal Never Give Up': 'CN',\n",
    "    'G2 Esports': 'EU',\n",
    "    'Samsung Galaxy': 'KR',\n",
    "    'Longzhu Gaming': 'KR',\n",
    "    'Immortals': 'NA',\n",
    "    'Gigabyte Marines': 'SEA',\n",
    "    'SK Telecom T1': 'KR',\n",
    "    'EDward Gaming': 'CN',\n",
    "    'AHQ e-Sports Club': 'TW',\n",
    "    'Flash Wolves': 'TW',\n",
    "    'Team SoloMid': 'NA',\n",
    "    'Misfits': 'EU'\n",
    "}"
   ]
  },
  {
   "cell_type": "code",
   "execution_count": 24,
   "metadata": {},
   "outputs": [
    {
     "data": {
      "text/plain": [
       "'CN'"
      ]
     },
     "execution_count": 24,
     "metadata": {},
     "output_type": "execute_result"
    }
   ],
   "source": [
    "team2region['Team WE']"
   ]
  },
  {
   "cell_type": "code",
   "execution_count": 50,
   "metadata": {},
   "outputs": [],
   "source": [
    "regions = train_df.replace({\"team\": team2region})['team']\n",
    "train_df[\"region\"] = regions\n",
    "test_df[\"region\"] = regions"
   ]
  },
  {
   "cell_type": "code",
   "execution_count": 51,
   "metadata": {},
   "outputs": [
    {
     "data": {
      "text/plain": [
       "0       CN\n",
       "1    Other\n",
       "2       NA\n",
       "3    Other\n",
       "4    Other\n",
       "Name: region, dtype: object"
      ]
     },
     "execution_count": 51,
     "metadata": {},
     "output_type": "execute_result"
    }
   ],
   "source": [
    "train_df[\"region\"].head()"
   ]
  },
  {
   "cell_type": "code",
   "execution_count": 52,
   "metadata": {},
   "outputs": [],
   "source": [
    "features = ['result', 'side', 'region', 'topwr_player', 'jngwr_player',\n",
    "            'midwr_player','adcwr_player','supwr_player' ]\n",
    "train_df2 = train_df.loc[:,features]\n",
    "test_df2 = test_df.loc[:,features]"
   ]
  },
  {
   "cell_type": "code",
   "execution_count": 53,
   "metadata": {},
   "outputs": [
    {
     "data": {
      "text/html": [
       "<div>\n",
       "<style>\n",
       "    .dataframe thead tr:only-child th {\n",
       "        text-align: right;\n",
       "    }\n",
       "\n",
       "    .dataframe thead th {\n",
       "        text-align: left;\n",
       "    }\n",
       "\n",
       "    .dataframe tbody tr th {\n",
       "        vertical-align: top;\n",
       "    }\n",
       "</style>\n",
       "<table border=\"1\" class=\"dataframe\">\n",
       "  <thead>\n",
       "    <tr style=\"text-align: right;\">\n",
       "      <th></th>\n",
       "      <th>result</th>\n",
       "      <th>side</th>\n",
       "      <th>region</th>\n",
       "      <th>topwr_player</th>\n",
       "      <th>jngwr_player</th>\n",
       "      <th>midwr_player</th>\n",
       "      <th>adcwr_player</th>\n",
       "      <th>supwr_player</th>\n",
       "    </tr>\n",
       "  </thead>\n",
       "  <tbody>\n",
       "    <tr>\n",
       "      <th>0</th>\n",
       "      <td>1</td>\n",
       "      <td>Blue</td>\n",
       "      <td>CN</td>\n",
       "      <td>0.581536</td>\n",
       "      <td>0.596491</td>\n",
       "      <td>0.656250</td>\n",
       "      <td>0.619048</td>\n",
       "      <td>1.000000</td>\n",
       "    </tr>\n",
       "    <tr>\n",
       "      <th>1</th>\n",
       "      <td>0</td>\n",
       "      <td>Red</td>\n",
       "      <td>Other</td>\n",
       "      <td>0.545455</td>\n",
       "      <td>0.777778</td>\n",
       "      <td>0.500000</td>\n",
       "      <td>0.000000</td>\n",
       "      <td>0.600000</td>\n",
       "    </tr>\n",
       "    <tr>\n",
       "      <th>2</th>\n",
       "      <td>1</td>\n",
       "      <td>Blue</td>\n",
       "      <td>NA</td>\n",
       "      <td>0.700000</td>\n",
       "      <td>0.563228</td>\n",
       "      <td>0.733333</td>\n",
       "      <td>0.555556</td>\n",
       "      <td>0.636364</td>\n",
       "    </tr>\n",
       "    <tr>\n",
       "      <th>3</th>\n",
       "      <td>0</td>\n",
       "      <td>Red</td>\n",
       "      <td>Other</td>\n",
       "      <td>0.500000</td>\n",
       "      <td>0.500000</td>\n",
       "      <td>0.000000</td>\n",
       "      <td>0.000000</td>\n",
       "      <td>0.000000</td>\n",
       "    </tr>\n",
       "    <tr>\n",
       "      <th>4</th>\n",
       "      <td>0</td>\n",
       "      <td>Blue</td>\n",
       "      <td>Other</td>\n",
       "      <td>0.333333</td>\n",
       "      <td>0.588235</td>\n",
       "      <td>0.500000</td>\n",
       "      <td>0.500000</td>\n",
       "      <td>0.500000</td>\n",
       "    </tr>\n",
       "  </tbody>\n",
       "</table>\n",
       "</div>"
      ],
      "text/plain": [
       "   result  side region  topwr_player  jngwr_player  midwr_player  \\\n",
       "0       1  Blue     CN      0.581536      0.596491      0.656250   \n",
       "1       0   Red  Other      0.545455      0.777778      0.500000   \n",
       "2       1  Blue     NA      0.700000      0.563228      0.733333   \n",
       "3       0   Red  Other      0.500000      0.500000      0.000000   \n",
       "4       0  Blue  Other      0.333333      0.588235      0.500000   \n",
       "\n",
       "   adcwr_player  supwr_player  \n",
       "0      0.619048      1.000000  \n",
       "1      0.000000      0.600000  \n",
       "2      0.555556      0.636364  \n",
       "3      0.000000      0.000000  \n",
       "4      0.500000      0.500000  "
      ]
     },
     "execution_count": 53,
     "metadata": {},
     "output_type": "execute_result"
    }
   ],
   "source": [
    "train_df2.head()"
   ]
  },
  {
   "cell_type": "code",
   "execution_count": 54,
   "metadata": {},
   "outputs": [
    {
     "data": {
      "text/html": [
       "<div>\n",
       "<style>\n",
       "    .dataframe thead tr:only-child th {\n",
       "        text-align: right;\n",
       "    }\n",
       "\n",
       "    .dataframe thead th {\n",
       "        text-align: left;\n",
       "    }\n",
       "\n",
       "    .dataframe tbody tr th {\n",
       "        vertical-align: top;\n",
       "    }\n",
       "</style>\n",
       "<table border=\"1\" class=\"dataframe\">\n",
       "  <thead>\n",
       "    <tr style=\"text-align: right;\">\n",
       "      <th></th>\n",
       "      <th>result</th>\n",
       "      <th>side</th>\n",
       "      <th>region</th>\n",
       "      <th>topwr_player</th>\n",
       "      <th>jngwr_player</th>\n",
       "      <th>midwr_player</th>\n",
       "      <th>adcwr_player</th>\n",
       "      <th>supwr_player</th>\n",
       "    </tr>\n",
       "  </thead>\n",
       "  <tbody>\n",
       "    <tr>\n",
       "      <th>0</th>\n",
       "      <td>0</td>\n",
       "      <td>Blue</td>\n",
       "      <td>CN</td>\n",
       "      <td>0.875000</td>\n",
       "      <td>0.333333</td>\n",
       "      <td>0.285714</td>\n",
       "      <td>0.500000</td>\n",
       "      <td>0.660000</td>\n",
       "    </tr>\n",
       "    <tr>\n",
       "      <th>1</th>\n",
       "      <td>1</td>\n",
       "      <td>Red</td>\n",
       "      <td>Other</td>\n",
       "      <td>0.529412</td>\n",
       "      <td>0.750000</td>\n",
       "      <td>1.000000</td>\n",
       "      <td>0.461538</td>\n",
       "      <td>0.750000</td>\n",
       "    </tr>\n",
       "    <tr>\n",
       "      <th>2</th>\n",
       "      <td>0</td>\n",
       "      <td>Blue</td>\n",
       "      <td>NA</td>\n",
       "      <td>0.508497</td>\n",
       "      <td>0.333333</td>\n",
       "      <td>0.666667</td>\n",
       "      <td>0.500000</td>\n",
       "      <td>0.357143</td>\n",
       "    </tr>\n",
       "    <tr>\n",
       "      <th>3</th>\n",
       "      <td>1</td>\n",
       "      <td>Red</td>\n",
       "      <td>Other</td>\n",
       "      <td>0.666667</td>\n",
       "      <td>0.750000</td>\n",
       "      <td>0.695652</td>\n",
       "      <td>0.461538</td>\n",
       "      <td>0.500000</td>\n",
       "    </tr>\n",
       "    <tr>\n",
       "      <th>4</th>\n",
       "      <td>1</td>\n",
       "      <td>Blue</td>\n",
       "      <td>Other</td>\n",
       "      <td>0.666667</td>\n",
       "      <td>0.750000</td>\n",
       "      <td>0.625000</td>\n",
       "      <td>0.461538</td>\n",
       "      <td>0.500000</td>\n",
       "    </tr>\n",
       "  </tbody>\n",
       "</table>\n",
       "</div>"
      ],
      "text/plain": [
       "   result  side region  topwr_player  jngwr_player  midwr_player  \\\n",
       "0       0  Blue     CN      0.875000      0.333333      0.285714   \n",
       "1       1   Red  Other      0.529412      0.750000      1.000000   \n",
       "2       0  Blue     NA      0.508497      0.333333      0.666667   \n",
       "3       1   Red  Other      0.666667      0.750000      0.695652   \n",
       "4       1  Blue  Other      0.666667      0.750000      0.625000   \n",
       "\n",
       "   adcwr_player  supwr_player  \n",
       "0      0.500000      0.660000  \n",
       "1      0.461538      0.750000  \n",
       "2      0.500000      0.357143  \n",
       "3      0.461538      0.500000  \n",
       "4      0.461538      0.500000  "
      ]
     },
     "execution_count": 54,
     "metadata": {},
     "output_type": "execute_result"
    }
   ],
   "source": [
    "test_df2.head()"
   ]
  },
  {
   "cell_type": "code",
   "execution_count": null,
   "metadata": {
    "collapsed": true
   },
   "outputs": [],
   "source": []
  },
  {
   "cell_type": "markdown",
   "metadata": {},
   "source": [
    "## Visualizing the train data"
   ]
  },
  {
   "cell_type": "code",
   "execution_count": 60,
   "metadata": {},
   "outputs": [
    {
     "data": {
      "text/html": [
       "<div>\n",
       "<style>\n",
       "    .dataframe thead tr:only-child th {\n",
       "        text-align: right;\n",
       "    }\n",
       "\n",
       "    .dataframe thead th {\n",
       "        text-align: left;\n",
       "    }\n",
       "\n",
       "    .dataframe tbody tr th {\n",
       "        vertical-align: top;\n",
       "    }\n",
       "</style>\n",
       "<table border=\"1\" class=\"dataframe\">\n",
       "  <thead>\n",
       "    <tr style=\"text-align: right;\">\n",
       "      <th></th>\n",
       "      <th>result</th>\n",
       "      <th>topwr_player</th>\n",
       "      <th>jngwr_player</th>\n",
       "      <th>midwr_player</th>\n",
       "      <th>adcwr_player</th>\n",
       "      <th>supwr_player</th>\n",
       "    </tr>\n",
       "    <tr>\n",
       "      <th>region</th>\n",
       "      <th></th>\n",
       "      <th></th>\n",
       "      <th></th>\n",
       "      <th></th>\n",
       "      <th></th>\n",
       "      <th></th>\n",
       "    </tr>\n",
       "  </thead>\n",
       "  <tbody>\n",
       "    <tr>\n",
       "      <th>CN</th>\n",
       "      <td>0.760000</td>\n",
       "      <td>0.593654</td>\n",
       "      <td>0.565693</td>\n",
       "      <td>0.604474</td>\n",
       "      <td>0.593374</td>\n",
       "      <td>0.743118</td>\n",
       "    </tr>\n",
       "    <tr>\n",
       "      <th>EU</th>\n",
       "      <td>0.607143</td>\n",
       "      <td>0.546795</td>\n",
       "      <td>0.602762</td>\n",
       "      <td>0.570676</td>\n",
       "      <td>0.586214</td>\n",
       "      <td>0.593561</td>\n",
       "    </tr>\n",
       "    <tr>\n",
       "      <th>KR</th>\n",
       "      <td>0.833333</td>\n",
       "      <td>0.690911</td>\n",
       "      <td>0.708068</td>\n",
       "      <td>0.744900</td>\n",
       "      <td>0.646011</td>\n",
       "      <td>0.624381</td>\n",
       "    </tr>\n",
       "    <tr>\n",
       "      <th>NA</th>\n",
       "      <td>0.555556</td>\n",
       "      <td>0.567959</td>\n",
       "      <td>0.441060</td>\n",
       "      <td>0.614691</td>\n",
       "      <td>0.573777</td>\n",
       "      <td>0.629096</td>\n",
       "    </tr>\n",
       "    <tr>\n",
       "      <th>Other</th>\n",
       "      <td>0.225000</td>\n",
       "      <td>0.453876</td>\n",
       "      <td>0.453963</td>\n",
       "      <td>0.426052</td>\n",
       "      <td>0.458410</td>\n",
       "      <td>0.442271</td>\n",
       "    </tr>\n",
       "    <tr>\n",
       "      <th>SEA</th>\n",
       "      <td>0.285714</td>\n",
       "      <td>0.500000</td>\n",
       "      <td>0.365655</td>\n",
       "      <td>0.293040</td>\n",
       "      <td>0.500000</td>\n",
       "      <td>0.333333</td>\n",
       "    </tr>\n",
       "    <tr>\n",
       "      <th>TR</th>\n",
       "      <td>0.466667</td>\n",
       "      <td>0.629562</td>\n",
       "      <td>0.409790</td>\n",
       "      <td>0.604393</td>\n",
       "      <td>0.693529</td>\n",
       "      <td>0.622436</td>\n",
       "    </tr>\n",
       "    <tr>\n",
       "      <th>TW</th>\n",
       "      <td>0.300000</td>\n",
       "      <td>0.654068</td>\n",
       "      <td>0.544221</td>\n",
       "      <td>0.630979</td>\n",
       "      <td>0.536577</td>\n",
       "      <td>0.550572</td>\n",
       "    </tr>\n",
       "  </tbody>\n",
       "</table>\n",
       "</div>"
      ],
      "text/plain": [
       "          result  topwr_player  jngwr_player  midwr_player  adcwr_player  \\\n",
       "region                                                                     \n",
       "CN      0.760000      0.593654      0.565693      0.604474      0.593374   \n",
       "EU      0.607143      0.546795      0.602762      0.570676      0.586214   \n",
       "KR      0.833333      0.690911      0.708068      0.744900      0.646011   \n",
       "NA      0.555556      0.567959      0.441060      0.614691      0.573777   \n",
       "Other   0.225000      0.453876      0.453963      0.426052      0.458410   \n",
       "SEA     0.285714      0.500000      0.365655      0.293040      0.500000   \n",
       "TR      0.466667      0.629562      0.409790      0.604393      0.693529   \n",
       "TW      0.300000      0.654068      0.544221      0.630979      0.536577   \n",
       "\n",
       "        supwr_player  \n",
       "region                \n",
       "CN          0.743118  \n",
       "EU          0.593561  \n",
       "KR          0.624381  \n",
       "NA          0.629096  \n",
       "Other       0.442271  \n",
       "SEA         0.333333  \n",
       "TR          0.622436  \n",
       "TW          0.550572  "
      ]
     },
     "execution_count": 60,
     "metadata": {},
     "output_type": "execute_result"
    }
   ],
   "source": [
    "region_stats = train_df2.groupby('region').mean()\n",
    "region_stats"
   ]
  },
  {
   "cell_type": "code",
   "execution_count": 67,
   "metadata": {},
   "outputs": [
    {
     "data": {
      "text/plain": [
       "<matplotlib.legend.Legend at 0x7f8fb1e7d6d8>"
      ]
     },
     "execution_count": 67,
     "metadata": {},
     "output_type": "execute_result"
    },
    {
     "data": {
      "image/png": "[encoded data removed]",
      "text/plain": [
       "<matplotlib.figure.Figure at 0x7f8fb1b9fc50>"
      ]
     },
     "metadata": {},
     "output_type": "display_data"
    }
   ],
   "source": [
    "%matplotlib inline\n",
    "region_stats.plot(); plt.legend(loc='best')"
   ]
  },
  {
   "cell_type": "code",
   "execution_count": 69,
   "metadata": {},
   "outputs": [
    {
     "data": {
      "text/plain": [
       "<matplotlib.legend.Legend at 0x7f8fb1a18128>"
      ]
     },
     "execution_count": 69,
     "metadata": {},
     "output_type": "execute_result"
    },
    {
     "data": {
      "image/png": "[encoded data removed]",
      "text/plain": [
       "<matplotlib.figure.Figure at 0x7f8fb1a06ac8>"
      ]
     },
     "metadata": {},
     "output_type": "display_data"
    }
   ],
   "source": [
    "region_stats['result'].plot(kind = 'bar'); plt.legend(loc='best')"
   ]
  },
  {
   "cell_type": "code",
   "execution_count": 70,
   "metadata": {},
   "outputs": [
    {
     "data": {
      "text/plain": [
       "<matplotlib.legend.Legend at 0x7f8fb1986ba8>"
      ]
     },
     "execution_count": 70,
     "metadata": {},
     "output_type": "execute_result"
    },
    {
     "data": {
      "image/png": "[encoded data removed]",
      "text/plain": [
       "<matplotlib.figure.Figure at 0x7f8fb1d7ccf8>"
      ]
     },
     "metadata": {},
     "output_type": "display_data"
    }
   ],
   "source": [
    "region_stats.iloc[:,1:].plot(kind = 'bar'); plt.legend(loc='best')"
   ]
  },
  {
   "cell_type": "code",
   "execution_count": null,
   "metadata": {
    "collapsed": true
   },
   "outputs": [],
   "source": [
    "\n"
   ]
  },
  {
   "cell_type": "markdown",
   "metadata": {},
   "source": [
    "## Binary logistic regression model"
   ]
  },
  {
   "cell_type": "markdown",
   "metadata": {},
   "source": [
    "Refs for the implementation of the model in python: http://nbviewer.jupyter.org/gist/justmarkham/6d5c061ca5aee67c4316471f8c2ae976"
   ]
  },
  {
   "cell_type": "code",
   "execution_count": 84,
   "metadata": {},
   "outputs": [],
   "source": [
    "import numpy as np\n",
    "import pandas as pd\n",
    "import statsmodels.api as sm\n",
    "import matplotlib.pyplot as plt\n",
    "from patsy import dmatrices\n",
    "from sklearn.linear_model import LogisticRegression\n",
    "from sklearn.cross_validation import train_test_split\n",
    "from sklearn import metrics\n",
    "from sklearn.cross_validation import cross_val_score"
   ]
  },
  {
   "cell_type": "code",
   "execution_count": 86,
   "metadata": {},
   "outputs": [
    {
     "data": {
      "text/plain": [
       "['result',\n",
       " 'side',\n",
       " 'region',\n",
       " 'topwr_player',\n",
       " 'jngwr_player',\n",
       " 'midwr_player',\n",
       " 'adcwr_player',\n",
       " 'supwr_player']"
      ]
     },
     "execution_count": 86,
     "metadata": {},
     "output_type": "execute_result"
    }
   ],
   "source": [
    "features"
   ]
  },
  {
   "cell_type": "code",
   "execution_count": 88,
   "metadata": {},
   "outputs": [
    {
     "name": "stdout",
     "output_type": "stream",
     "text": [
      "Index(['Intercept', 'side[T.Red]', 'region[T.EU]', 'region[T.KR]',\n",
      "       'region[T.NA]', 'region[T.Other]', 'region[T.SEA]', 'region[T.TR]',\n",
      "       'region[T.TW]', 'topwr_player', 'jngwr_player', 'midwr_player',\n",
      "       'adcwr_player', 'supwr_player'],\n",
      "      dtype='object')\n"
     ]
    }
   ],
   "source": [
    "# create dataframes with an intercept column and dummy variables for\n",
    "# occupation and occupation_husb\n",
    "y, X = dmatrices('result ~ side + region + topwr_player + jngwr_player + \\\n",
    "                           midwr_player + adcwr_player + supwr_player',\n",
    "                  train_df2, return_type=\"dataframe\")\n",
    "print(X.columns)\n",
    "\n",
    "\n"
   ]
  },
  {
   "cell_type": "code",
   "execution_count": 92,
   "metadata": {},
   "outputs": [],
   "source": [
    "#The column names for the dummy variables are ugly, so let's rename those.\n",
    "# fix column names of X\n",
    "X = X.rename(columns = {\n",
    "    'side[T.Red]': 'side', \n",
    "    'region[T.EU]': 'EU',\n",
    "    'region[T.KR]': 'KR',\n",
    "    'region[T.NA]': 'NA', \n",
    "    'region[T.Other]': 'Other', \n",
    "    'region[T.SEA]': 'SEA', \n",
    "    'region[T.TR]': 'TR',\n",
    "    'region[T.TW]': 'TW'\n",
    "})"
   ]
  },
  {
   "cell_type": "code",
   "execution_count": 90,
   "metadata": {},
   "outputs": [
    {
     "data": {
      "text/html": [
       "<div>\n",
       "<style>\n",
       "    .dataframe thead tr:only-child th {\n",
       "        text-align: right;\n",
       "    }\n",
       "\n",
       "    .dataframe thead th {\n",
       "        text-align: left;\n",
       "    }\n",
       "\n",
       "    .dataframe tbody tr th {\n",
       "        vertical-align: top;\n",
       "    }\n",
       "</style>\n",
       "<table border=\"1\" class=\"dataframe\">\n",
       "  <thead>\n",
       "    <tr style=\"text-align: right;\">\n",
       "      <th></th>\n",
       "      <th>Intercept</th>\n",
       "      <th>side</th>\n",
       "      <th>EU</th>\n",
       "      <th>KR</th>\n",
       "      <th>NA</th>\n",
       "      <th>Other</th>\n",
       "      <th>SEA</th>\n",
       "      <th>TR</th>\n",
       "      <th>TW</th>\n",
       "      <th>topwr_player</th>\n",
       "      <th>jngwr_player</th>\n",
       "      <th>midwr_player</th>\n",
       "      <th>adcwr_player</th>\n",
       "      <th>supwr_player</th>\n",
       "    </tr>\n",
       "  </thead>\n",
       "  <tbody>\n",
       "    <tr>\n",
       "      <th>0</th>\n",
       "      <td>1.0</td>\n",
       "      <td>0.0</td>\n",
       "      <td>0.0</td>\n",
       "      <td>0.0</td>\n",
       "      <td>0.0</td>\n",
       "      <td>0.0</td>\n",
       "      <td>0.0</td>\n",
       "      <td>0.0</td>\n",
       "      <td>0.0</td>\n",
       "      <td>0.581536</td>\n",
       "      <td>0.596491</td>\n",
       "      <td>0.656250</td>\n",
       "      <td>0.619048</td>\n",
       "      <td>1.000000</td>\n",
       "    </tr>\n",
       "    <tr>\n",
       "      <th>1</th>\n",
       "      <td>1.0</td>\n",
       "      <td>1.0</td>\n",
       "      <td>0.0</td>\n",
       "      <td>0.0</td>\n",
       "      <td>0.0</td>\n",
       "      <td>1.0</td>\n",
       "      <td>0.0</td>\n",
       "      <td>0.0</td>\n",
       "      <td>0.0</td>\n",
       "      <td>0.545455</td>\n",
       "      <td>0.777778</td>\n",
       "      <td>0.500000</td>\n",
       "      <td>0.000000</td>\n",
       "      <td>0.600000</td>\n",
       "    </tr>\n",
       "    <tr>\n",
       "      <th>2</th>\n",
       "      <td>1.0</td>\n",
       "      <td>0.0</td>\n",
       "      <td>0.0</td>\n",
       "      <td>0.0</td>\n",
       "      <td>1.0</td>\n",
       "      <td>0.0</td>\n",
       "      <td>0.0</td>\n",
       "      <td>0.0</td>\n",
       "      <td>0.0</td>\n",
       "      <td>0.700000</td>\n",
       "      <td>0.563228</td>\n",
       "      <td>0.733333</td>\n",
       "      <td>0.555556</td>\n",
       "      <td>0.636364</td>\n",
       "    </tr>\n",
       "    <tr>\n",
       "      <th>3</th>\n",
       "      <td>1.0</td>\n",
       "      <td>1.0</td>\n",
       "      <td>0.0</td>\n",
       "      <td>0.0</td>\n",
       "      <td>0.0</td>\n",
       "      <td>1.0</td>\n",
       "      <td>0.0</td>\n",
       "      <td>0.0</td>\n",
       "      <td>0.0</td>\n",
       "      <td>0.500000</td>\n",
       "      <td>0.500000</td>\n",
       "      <td>0.000000</td>\n",
       "      <td>0.000000</td>\n",
       "      <td>0.000000</td>\n",
       "    </tr>\n",
       "    <tr>\n",
       "      <th>4</th>\n",
       "      <td>1.0</td>\n",
       "      <td>0.0</td>\n",
       "      <td>0.0</td>\n",
       "      <td>0.0</td>\n",
       "      <td>0.0</td>\n",
       "      <td>1.0</td>\n",
       "      <td>0.0</td>\n",
       "      <td>0.0</td>\n",
       "      <td>0.0</td>\n",
       "      <td>0.333333</td>\n",
       "      <td>0.588235</td>\n",
       "      <td>0.500000</td>\n",
       "      <td>0.500000</td>\n",
       "      <td>0.500000</td>\n",
       "    </tr>\n",
       "  </tbody>\n",
       "</table>\n",
       "</div>"
      ],
      "text/plain": [
       "   Intercept  side   EU   KR   NA  Other  SEA   TR   TW  topwr_player  \\\n",
       "0        1.0   0.0  0.0  0.0  0.0    0.0  0.0  0.0  0.0      0.581536   \n",
       "1        1.0   1.0  0.0  0.0  0.0    1.0  0.0  0.0  0.0      0.545455   \n",
       "2        1.0   0.0  0.0  0.0  1.0    0.0  0.0  0.0  0.0      0.700000   \n",
       "3        1.0   1.0  0.0  0.0  0.0    1.0  0.0  0.0  0.0      0.500000   \n",
       "4        1.0   0.0  0.0  0.0  0.0    1.0  0.0  0.0  0.0      0.333333   \n",
       "\n",
       "   jngwr_player  midwr_player  adcwr_player  supwr_player  \n",
       "0      0.596491      0.656250      0.619048      1.000000  \n",
       "1      0.777778      0.500000      0.000000      0.600000  \n",
       "2      0.563228      0.733333      0.555556      0.636364  \n",
       "3      0.500000      0.000000      0.000000      0.000000  \n",
       "4      0.588235      0.500000      0.500000      0.500000  "
      ]
     },
     "execution_count": 90,
     "metadata": {},
     "output_type": "execute_result"
    }
   ],
   "source": [
    "X.head()"
   ]
  },
  {
   "cell_type": "code",
   "execution_count": 93,
   "metadata": {},
   "outputs": [
    {
     "data": {
      "text/html": [
       "<div>\n",
       "<style>\n",
       "    .dataframe thead tr:only-child th {\n",
       "        text-align: right;\n",
       "    }\n",
       "\n",
       "    .dataframe thead th {\n",
       "        text-align: left;\n",
       "    }\n",
       "\n",
       "    .dataframe tbody tr th {\n",
       "        vertical-align: top;\n",
       "    }\n",
       "</style>\n",
       "<table border=\"1\" class=\"dataframe\">\n",
       "  <thead>\n",
       "    <tr style=\"text-align: right;\">\n",
       "      <th></th>\n",
       "      <th>result</th>\n",
       "    </tr>\n",
       "  </thead>\n",
       "  <tbody>\n",
       "    <tr>\n",
       "      <th>0</th>\n",
       "      <td>1.0</td>\n",
       "    </tr>\n",
       "    <tr>\n",
       "      <th>1</th>\n",
       "      <td>0.0</td>\n",
       "    </tr>\n",
       "    <tr>\n",
       "      <th>2</th>\n",
       "      <td>1.0</td>\n",
       "    </tr>\n",
       "    <tr>\n",
       "      <th>3</th>\n",
       "      <td>0.0</td>\n",
       "    </tr>\n",
       "    <tr>\n",
       "      <th>4</th>\n",
       "      <td>0.0</td>\n",
       "    </tr>\n",
       "  </tbody>\n",
       "</table>\n",
       "</div>"
      ],
      "text/plain": [
       "   result\n",
       "0     1.0\n",
       "1     0.0\n",
       "2     1.0\n",
       "3     0.0\n",
       "4     0.0"
      ]
     },
     "execution_count": 93,
     "metadata": {},
     "output_type": "execute_result"
    }
   ],
   "source": [
    "y.head()"
   ]
  },
  {
   "cell_type": "markdown",
   "metadata": {},
   "source": [
    "We also need to flatten y into a 1-D array, so that scikit-learn will properly understand it as the response variable.\n",
    "\n"
   ]
  },
  {
   "cell_type": "code",
   "execution_count": 96,
   "metadata": {},
   "outputs": [
    {
     "data": {
      "text/plain": [
       "array([ 1.,  0.,  1.,  0.,  0.,  1.,  0.,  1.,  0.,  1.,  1.,  0.,  0.,\n",
       "        1.,  0.,  1.,  1.,  0.,  1.,  0.,  1.,  0.,  1.,  0.,  0.,  1.,\n",
       "        0.,  1.,  0.,  1.,  1.,  0.,  0.,  1.,  0.,  1.,  0.,  1.,  1.,\n",
       "        0.,  0.,  1.,  1.,  0.,  0.,  1.,  0.,  1.,  0.,  1.,  0.,  1.,\n",
       "        1.,  0.,  0.,  1.,  1.,  0.,  1.,  0.,  1.,  0.,  1.,  0.,  1.,\n",
       "        0.,  1.,  0.,  1.,  0.,  1.,  0.,  1.,  0.,  0.,  1.,  1.,  0.,\n",
       "        1.,  0.,  0.,  1.,  1.,  0.,  0.,  1.,  1.,  0.,  0.,  1.,  0.,\n",
       "        1.,  1.,  0.,  1.,  0.,  1.,  0.,  0.,  1.,  0.,  1.,  1.,  0.,\n",
       "        0.,  1.,  1.,  0.,  0.,  1.,  1.,  0.,  1.,  0.,  1.,  0.,  1.,\n",
       "        0.,  0.,  1.,  0.,  1.,  0.,  1.,  1.,  0.,  0.,  1.,  1.,  0.,\n",
       "        1.,  0.,  0.,  1.,  0.,  1.,  0.,  1.,  1.,  0.,  0.,  1.,  1.,\n",
       "        0.,  1.,  0.,  1.,  0.,  0.,  1.,  0.,  1.,  1.,  0.,  1.,  0.,\n",
       "        1.,  0.,  0.,  1.,  1.,  0.,  0.,  1.,  0.,  1.,  1.,  0.,  1.,\n",
       "        0.,  1.,  0.,  0.,  1.,  0.,  1.,  1.,  0.,  1.,  0.])"
      ]
     },
     "execution_count": 96,
     "metadata": {},
     "output_type": "execute_result"
    }
   ],
   "source": [
    "# flatten y into a 1-D array\n",
    "y = np.ravel(y)\n",
    "y"
   ]
  },
  {
   "cell_type": "code",
   "execution_count": null,
   "metadata": {
    "collapsed": true
   },
   "outputs": [],
   "source": [
    "\n"
   ]
  },
  {
   "cell_type": "code",
   "execution_count": 97,
   "metadata": {},
   "outputs": [
    {
     "data": {
      "text/plain": [
       "0.76666666666666672"
      ]
     },
     "execution_count": 97,
     "metadata": {},
     "output_type": "execute_result"
    }
   ],
   "source": [
    "# instantiate a logistic regression model, and fit with X and y\n",
    "model = LogisticRegression()\n",
    "model = model.fit(X, y)\n",
    "\n",
    "# check the accuracy on the training set\n",
    "model.score(X, y)"
   ]
  },
  {
   "cell_type": "markdown",
   "metadata": {},
   "source": [
    "77% accuracy seems good, but what's the null error rate?\n",
    "\n"
   ]
  },
  {
   "cell_type": "code",
   "execution_count": 98,
   "metadata": {},
   "outputs": [
    {
     "data": {
      "text/plain": [
       "0.5"
      ]
     },
     "execution_count": 98,
     "metadata": {},
     "output_type": "execute_result"
    }
   ],
   "source": [
    "# what percentage had affairs?\n",
    "y.mean()"
   ]
  },
  {
   "cell_type": "markdown",
   "metadata": {},
   "source": [
    "50 % < 77% (quite good??)\n",
    "\n",
    "Let's examine the coefficients to see what we learn."
   ]
  },
  {
   "cell_type": "code",
   "execution_count": 107,
   "metadata": {},
   "outputs": [
    {
     "data": {
      "text/html": [
       "<div>\n",
       "<style>\n",
       "    .dataframe thead tr:only-child th {\n",
       "        text-align: right;\n",
       "    }\n",
       "\n",
       "    .dataframe thead th {\n",
       "        text-align: left;\n",
       "    }\n",
       "\n",
       "    .dataframe tbody tr th {\n",
       "        vertical-align: top;\n",
       "    }\n",
       "</style>\n",
       "<table border=\"1\" class=\"dataframe\">\n",
       "  <thead>\n",
       "    <tr style=\"text-align: right;\">\n",
       "      <th></th>\n",
       "      <th>1.feature</th>\n",
       "      <th>2. coeff</th>\n",
       "    </tr>\n",
       "  </thead>\n",
       "  <tbody>\n",
       "    <tr>\n",
       "      <th>0</th>\n",
       "      <td>Intercept</td>\n",
       "      <td>-1.446238</td>\n",
       "    </tr>\n",
       "    <tr>\n",
       "      <th>1</th>\n",
       "      <td>side</td>\n",
       "      <td>-0.297452</td>\n",
       "    </tr>\n",
       "    <tr>\n",
       "      <th>2</th>\n",
       "      <td>EU</td>\n",
       "      <td>-0.089020</td>\n",
       "    </tr>\n",
       "    <tr>\n",
       "      <th>3</th>\n",
       "      <td>KR</td>\n",
       "      <td>0.305030</td>\n",
       "    </tr>\n",
       "    <tr>\n",
       "      <th>4</th>\n",
       "      <td>NA</td>\n",
       "      <td>-0.236521</td>\n",
       "    </tr>\n",
       "    <tr>\n",
       "      <th>5</th>\n",
       "      <td>Other</td>\n",
       "      <td>-1.079941</td>\n",
       "    </tr>\n",
       "    <tr>\n",
       "      <th>6</th>\n",
       "      <td>SEA</td>\n",
       "      <td>-0.209422</td>\n",
       "    </tr>\n",
       "    <tr>\n",
       "      <th>7</th>\n",
       "      <td>TR</td>\n",
       "      <td>-0.585949</td>\n",
       "    </tr>\n",
       "    <tr>\n",
       "      <th>8</th>\n",
       "      <td>TW</td>\n",
       "      <td>-1.239724</td>\n",
       "    </tr>\n",
       "    <tr>\n",
       "      <th>9</th>\n",
       "      <td>topwr_player</td>\n",
       "      <td>1.264765</td>\n",
       "    </tr>\n",
       "    <tr>\n",
       "      <th>10</th>\n",
       "      <td>jngwr_player</td>\n",
       "      <td>1.159140</td>\n",
       "    </tr>\n",
       "    <tr>\n",
       "      <th>11</th>\n",
       "      <td>midwr_player</td>\n",
       "      <td>1.660518</td>\n",
       "    </tr>\n",
       "    <tr>\n",
       "      <th>12</th>\n",
       "      <td>adcwr_player</td>\n",
       "      <td>0.706289</td>\n",
       "    </tr>\n",
       "    <tr>\n",
       "      <th>13</th>\n",
       "      <td>supwr_player</td>\n",
       "      <td>1.423680</td>\n",
       "    </tr>\n",
       "  </tbody>\n",
       "</table>\n",
       "</div>"
      ],
      "text/plain": [
       "       1.feature  2. coeff\n",
       "0      Intercept -1.446238\n",
       "1           side -0.297452\n",
       "2             EU -0.089020\n",
       "3             KR  0.305030\n",
       "4             NA -0.236521\n",
       "5          Other -1.079941\n",
       "6            SEA -0.209422\n",
       "7             TR -0.585949\n",
       "8             TW -1.239724\n",
       "9   topwr_player  1.264765\n",
       "10  jngwr_player  1.159140\n",
       "11  midwr_player  1.660518\n",
       "12  adcwr_player  0.706289\n",
       "13  supwr_player  1.423680"
      ]
     },
     "execution_count": 107,
     "metadata": {},
     "output_type": "execute_result"
    }
   ],
   "source": [
    "# examine the coefficients\n",
    "pd.DataFrame({'1.feature': X.columns, '2. coeff': np.ravel(np.transpose(model.coef_))})"
   ]
  },
  {
   "cell_type": "markdown",
   "metadata": {},
   "source": [
    "Playing in the red side correspond to a decrease in the likelihood of winning a game.\n",
    "\n",
    "The only region that does not decrease the likelyhood is KR (Korea). NA, SEA and EU decrease likelyhood but less than the others (EU seems to be kind of neutral).\n"
   ]
  },
  {
   "cell_type": "code",
   "execution_count": null,
   "metadata": {},
   "outputs": [],
   "source": []
  },
  {
   "cell_type": "markdown",
   "metadata": {},
   "source": [
    "## Model evaluation using a validation set"
   ]
  },
  {
   "cell_type": "markdown",
   "metadata": {},
   "source": [
    "Warning: the split should have done by considering that train and test data is going by pairs (what we do below\n",
    "is not considering this, but we considered this in the main project in R: https://github.com/dsalgador/LeagueOfLegends_Project)"
   ]
  },
  {
   "cell_type": "code",
   "execution_count": 108,
   "metadata": {},
   "outputs": [
    {
     "data": {
      "text/plain": [
       "LogisticRegression(C=1.0, class_weight=None, dual=False, fit_intercept=True,\n",
       "          intercept_scaling=1, max_iter=100, multi_class='ovr', n_jobs=1,\n",
       "          penalty='l2', random_state=None, solver='liblinear', tol=0.0001,\n",
       "          verbose=0, warm_start=False)"
      ]
     },
     "execution_count": 108,
     "metadata": {},
     "output_type": "execute_result"
    }
   ],
   "source": [
    "# evaluate the model by splitting into train and test sets\n",
    "X_train, X_test, y_train, y_test = train_test_split(X, y, test_size=0.3, random_state=0)\n",
    "model2 = LogisticRegression()\n",
    "model2.fit(X_train, y_train)"
   ]
  },
  {
   "cell_type": "code",
   "execution_count": 110,
   "metadata": {},
   "outputs": [
    {
     "name": "stdout",
     "output_type": "stream",
     "text": [
      "[ 1.  1.  1.  1.  1.  0.  1.  1.  1.  1.  0.  1.  0.  0.  0.  1.  1.  1.\n",
      "  0.  1.  1.  1.  0.  0.  0.  0.  1.  1.  1.  0.  0.  0.  0.  0.  1.  1.\n",
      "  1.  0.  1.  0.  1.  0.  1.  1.  0.  1.  0.  1.  0.  1.  1.  0.  1.  1.]\n"
     ]
    }
   ],
   "source": [
    "# predict class labels for the test set\n",
    "predicted = model2.predict(X_test)\n",
    "print(predicted)"
   ]
  },
  {
   "cell_type": "code",
   "execution_count": 113,
   "metadata": {},
   "outputs": [
    {
     "name": "stdout",
     "output_type": "stream",
     "text": [
      "[[ 0.32132497  0.67867503]\n",
      " [ 0.24440075  0.75559925]\n",
      " [ 0.46232006  0.53767994]\n",
      " [ 0.38780482  0.61219518]\n",
      " [ 0.39442535  0.60557465]\n",
      " [ 0.68971447  0.31028553]\n",
      " [ 0.28966225  0.71033775]\n",
      " [ 0.40099896  0.59900104]\n",
      " [ 0.36560629  0.63439371]\n",
      " [ 0.12554885  0.87445115]\n",
      " [ 0.58416623  0.41583377]\n",
      " [ 0.12869238  0.87130762]\n",
      " [ 0.64076556  0.35923444]\n",
      " [ 0.52290159  0.47709841]\n",
      " [ 0.54523583  0.45476417]\n",
      " [ 0.18820362  0.81179638]\n",
      " [ 0.46957359  0.53042641]\n",
      " [ 0.36772708  0.63227292]\n",
      " [ 0.52112736  0.47887264]\n",
      " [ 0.20716181  0.79283819]\n",
      " [ 0.06678398  0.93321602]\n",
      " [ 0.36327631  0.63672369]\n",
      " [ 0.88486178  0.11513822]\n",
      " [ 0.647348    0.352652  ]\n",
      " [ 0.70751853  0.29248147]\n",
      " [ 0.53720729  0.46279271]\n",
      " [ 0.40502075  0.59497925]\n",
      " [ 0.46537218  0.53462782]\n",
      " [ 0.42686085  0.57313915]\n",
      " [ 0.74179557  0.25820443]\n",
      " [ 0.56487166  0.43512834]\n",
      " [ 0.92628575  0.07371425]\n",
      " [ 0.77298378  0.22701622]\n",
      " [ 0.72795567  0.27204433]\n",
      " [ 0.3470521   0.6529479 ]\n",
      " [ 0.44810196  0.55189804]\n",
      " [ 0.36977356  0.63022644]\n",
      " [ 0.71471193  0.28528807]\n",
      " [ 0.32284327  0.67715673]\n",
      " [ 0.56253403  0.43746597]\n",
      " [ 0.12208009  0.87791991]\n",
      " [ 0.52598617  0.47401383]\n",
      " [ 0.17835752  0.82164248]\n",
      " [ 0.46461534  0.53538466]\n",
      " [ 0.73250897  0.26749103]\n",
      " [ 0.35022683  0.64977317]\n",
      " [ 0.74252874  0.25747126]\n",
      " [ 0.21082367  0.78917633]\n",
      " [ 0.5409854   0.4590146 ]\n",
      " [ 0.07994927  0.92005073]\n",
      " [ 0.40677605  0.59322395]\n",
      " [ 0.63345697  0.36654303]\n",
      " [ 0.22247071  0.77752929]\n",
      " [ 0.10963417  0.89036583]]\n"
     ]
    }
   ],
   "source": [
    "# generate class probabilities\n",
    "probs = model2.predict_proba(X_test)\n",
    "print(probs);"
   ]
  },
  {
   "cell_type": "markdown",
   "metadata": {},
   "source": [
    "As you can see, the classifier is predicting a 1 (having WON the game) any time the probability in the second column is greater than 0.5.\n",
    "\n",
    "Now let's generate some evaluation metrics."
   ]
  },
  {
   "cell_type": "code",
   "execution_count": 117,
   "metadata": {},
   "outputs": [
    {
     "name": "stdout",
     "output_type": "stream",
     "text": [
      "0.666666666667\n",
      "0.792582417582\n"
     ]
    }
   ],
   "source": [
    "# generate evaluation metrics\n",
    "print(metrics.accuracy_score(y_test, predicted))\n",
    "print(metrics.roc_auc_score(y_test, probs[:, 1]))"
   ]
  },
  {
   "cell_type": "markdown",
   "metadata": {},
   "source": [
    "The accuracy is 67%, 10% less than we experienced when training and predicting on the same data.\n",
    "\n",
    "We can also see the confusion matrix and a classification report with other metrics."
   ]
  },
  {
   "cell_type": "code",
   "execution_count": 118,
   "metadata": {},
   "outputs": [
    {
     "name": "stdout",
     "output_type": "stream",
     "text": [
      "[[15 11]\n",
      " [ 7 21]]\n",
      "             precision    recall  f1-score   support\n",
      "\n",
      "        0.0       0.68      0.58      0.62        26\n",
      "        1.0       0.66      0.75      0.70        28\n",
      "\n",
      "avg / total       0.67      0.67      0.66        54\n",
      "\n"
     ]
    }
   ],
   "source": [
    "print(metrics.confusion_matrix(y_test, predicted))\n",
    "print(metrics.classification_report(y_test, predicted))"
   ]
  },
  {
   "cell_type": "markdown",
   "metadata": {},
   "source": [
    "## Model evaluation using  Cross-Validation"
   ]
  },
  {
   "cell_type": "code",
   "execution_count": 192,
   "metadata": {},
   "outputs": [
    {
     "name": "stdout",
     "output_type": "stream",
     "text": [
      "[ 0.88888889  0.66666667  0.61111111  1.          0.66666667  0.61111111\n",
      "  0.72222222  0.77777778  0.72222222  0.44444444]\n",
      "0.711111111111\n"
     ]
    }
   ],
   "source": [
    "# evaluate the model using 10-fold cross-validation\n",
    "scores = cross_val_score(LogisticRegression(), X, y, scoring='accuracy', cv=10)\n",
    "print(scores)\n",
    "print(scores.mean())"
   ]
  },
  {
   "cell_type": "markdown",
   "metadata": {},
   "source": [
    "Looks good. It is performing at 71% accuracy (quite less than the 77% observed initially).\n",
    "\n"
   ]
  },
  {
   "cell_type": "markdown",
   "metadata": {},
   "source": [
    "## Model predictions (data nor train nor test)"
   ]
  },
  {
   "cell_type": "code",
   "execution_count": 242,
   "metadata": {},
   "outputs": [],
   "source": [
    "all_df2 = train_df2.append(test_df2, ignore_index = True)"
   ]
  },
  {
   "cell_type": "code",
   "execution_count": 243,
   "metadata": {},
   "outputs": [
    {
     "data": {
      "text/html": [
       "<div>\n",
       "<style>\n",
       "    .dataframe thead tr:only-child th {\n",
       "        text-align: right;\n",
       "    }\n",
       "\n",
       "    .dataframe thead th {\n",
       "        text-align: left;\n",
       "    }\n",
       "\n",
       "    .dataframe tbody tr th {\n",
       "        vertical-align: top;\n",
       "    }\n",
       "</style>\n",
       "<table border=\"1\" class=\"dataframe\">\n",
       "  <thead>\n",
       "    <tr style=\"text-align: right;\">\n",
       "      <th></th>\n",
       "      <th>Intercept</th>\n",
       "      <th>side[T.Red]</th>\n",
       "      <th>region[T.EU]</th>\n",
       "      <th>region[T.KR]</th>\n",
       "      <th>region[T.NA]</th>\n",
       "      <th>region[T.Other]</th>\n",
       "      <th>region[T.SEA]</th>\n",
       "      <th>region[T.TR]</th>\n",
       "      <th>region[T.TW]</th>\n",
       "      <th>topwr_player</th>\n",
       "      <th>jngwr_player</th>\n",
       "      <th>midwr_player</th>\n",
       "      <th>adcwr_player</th>\n",
       "      <th>supwr_player</th>\n",
       "    </tr>\n",
       "  </thead>\n",
       "  <tbody>\n",
       "    <tr>\n",
       "      <th>0</th>\n",
       "      <td>1.0</td>\n",
       "      <td>0.0</td>\n",
       "      <td>0.0</td>\n",
       "      <td>0.0</td>\n",
       "      <td>0.0</td>\n",
       "      <td>0.0</td>\n",
       "      <td>0.0</td>\n",
       "      <td>0.0</td>\n",
       "      <td>0.0</td>\n",
       "      <td>0.581536</td>\n",
       "      <td>0.596491</td>\n",
       "      <td>0.656250</td>\n",
       "      <td>0.619048</td>\n",
       "      <td>1.000000</td>\n",
       "    </tr>\n",
       "    <tr>\n",
       "      <th>1</th>\n",
       "      <td>1.0</td>\n",
       "      <td>1.0</td>\n",
       "      <td>0.0</td>\n",
       "      <td>0.0</td>\n",
       "      <td>0.0</td>\n",
       "      <td>1.0</td>\n",
       "      <td>0.0</td>\n",
       "      <td>0.0</td>\n",
       "      <td>0.0</td>\n",
       "      <td>0.545455</td>\n",
       "      <td>0.777778</td>\n",
       "      <td>0.500000</td>\n",
       "      <td>0.000000</td>\n",
       "      <td>0.600000</td>\n",
       "    </tr>\n",
       "    <tr>\n",
       "      <th>2</th>\n",
       "      <td>1.0</td>\n",
       "      <td>0.0</td>\n",
       "      <td>0.0</td>\n",
       "      <td>0.0</td>\n",
       "      <td>1.0</td>\n",
       "      <td>0.0</td>\n",
       "      <td>0.0</td>\n",
       "      <td>0.0</td>\n",
       "      <td>0.0</td>\n",
       "      <td>0.700000</td>\n",
       "      <td>0.563228</td>\n",
       "      <td>0.733333</td>\n",
       "      <td>0.555556</td>\n",
       "      <td>0.636364</td>\n",
       "    </tr>\n",
       "    <tr>\n",
       "      <th>3</th>\n",
       "      <td>1.0</td>\n",
       "      <td>1.0</td>\n",
       "      <td>0.0</td>\n",
       "      <td>0.0</td>\n",
       "      <td>0.0</td>\n",
       "      <td>1.0</td>\n",
       "      <td>0.0</td>\n",
       "      <td>0.0</td>\n",
       "      <td>0.0</td>\n",
       "      <td>0.500000</td>\n",
       "      <td>0.500000</td>\n",
       "      <td>0.000000</td>\n",
       "      <td>0.000000</td>\n",
       "      <td>0.000000</td>\n",
       "    </tr>\n",
       "    <tr>\n",
       "      <th>4</th>\n",
       "      <td>1.0</td>\n",
       "      <td>0.0</td>\n",
       "      <td>0.0</td>\n",
       "      <td>0.0</td>\n",
       "      <td>0.0</td>\n",
       "      <td>1.0</td>\n",
       "      <td>0.0</td>\n",
       "      <td>0.0</td>\n",
       "      <td>0.0</td>\n",
       "      <td>0.333333</td>\n",
       "      <td>0.588235</td>\n",
       "      <td>0.500000</td>\n",
       "      <td>0.500000</td>\n",
       "      <td>0.500000</td>\n",
       "    </tr>\n",
       "  </tbody>\n",
       "</table>\n",
       "</div>"
      ],
      "text/plain": [
       "   Intercept  side[T.Red]  region[T.EU]  region[T.KR]  region[T.NA]  \\\n",
       "0        1.0          0.0           0.0           0.0           0.0   \n",
       "1        1.0          1.0           0.0           0.0           0.0   \n",
       "2        1.0          0.0           0.0           0.0           1.0   \n",
       "3        1.0          1.0           0.0           0.0           0.0   \n",
       "4        1.0          0.0           0.0           0.0           0.0   \n",
       "\n",
       "   region[T.Other]  region[T.SEA]  region[T.TR]  region[T.TW]  topwr_player  \\\n",
       "0              0.0            0.0           0.0           0.0      0.581536   \n",
       "1              1.0            0.0           0.0           0.0      0.545455   \n",
       "2              0.0            0.0           0.0           0.0      0.700000   \n",
       "3              1.0            0.0           0.0           0.0      0.500000   \n",
       "4              1.0            0.0           0.0           0.0      0.333333   \n",
       "\n",
       "   jngwr_player  midwr_player  adcwr_player  supwr_player  \n",
       "0      0.596491      0.656250      0.619048      1.000000  \n",
       "1      0.777778      0.500000      0.000000      0.600000  \n",
       "2      0.563228      0.733333      0.555556      0.636364  \n",
       "3      0.500000      0.000000      0.000000      0.000000  \n",
       "4      0.588235      0.500000      0.500000      0.500000  "
      ]
     },
     "execution_count": 243,
     "metadata": {},
     "output_type": "execute_result"
    }
   ],
   "source": [
    "y_real, X_real = dmatrices('result ~ side + region + topwr_player + jngwr_player + \\\n",
    "                           midwr_player + adcwr_player + supwr_player',\n",
    "                  all_df2, return_type=\"dataframe\")\n",
    "#X_real.head()\n",
    "X_real.head()\n",
    "#model.predict_proba(test_df2.iloc[0,:])"
   ]
  },
  {
   "cell_type": "code",
   "execution_count": 244,
   "metadata": {},
   "outputs": [
    {
     "data": {
      "text/plain": [
       "result                 0\n",
       "side                Blue\n",
       "region                CN\n",
       "topwr_player       0.875\n",
       "jngwr_player    0.333333\n",
       "midwr_player    0.285714\n",
       "adcwr_player         0.5\n",
       "supwr_player        0.66\n",
       "Name: 0, dtype: object"
      ]
     },
     "execution_count": 244,
     "metadata": {},
     "output_type": "execute_result"
    }
   ],
   "source": [
    "test_df2.iloc[0,:]"
   ]
  },
  {
   "cell_type": "code",
   "execution_count": 245,
   "metadata": {},
   "outputs": [
    {
     "data": {
      "text/plain": [
       "array([ 1.        ,  0.        ,  0.        ,  0.        ,  0.        ,\n",
       "        0.        ,  0.        ,  0.        ,  0.        ,  0.875     ,\n",
       "        0.33333333,  0.28571429,  0.5       ,  0.66      ])"
      ]
     },
     "execution_count": 245,
     "metadata": {},
     "output_type": "execute_result"
    }
   ],
   "source": [
    "match1 = np.append(np.append([1],[0,0,0,0,0,0,0,0]), [test_df2.iloc[0,i] for i in  range(3,8) ])\n",
    "match1\n"
   ]
  },
  {
   "cell_type": "code",
   "execution_count": 246,
   "metadata": {},
   "outputs": [
    {
     "data": {
      "text/plain": [
       "array([[ 1.        ,  0.        ,  0.        ,  0.        ,  0.        ,\n",
       "         0.        ,  0.        ,  0.        ,  0.        ,  0.875     ,\n",
       "         0.33333333,  0.28571429,  0.5       ,  0.66      ]])"
      ]
     },
     "execution_count": 246,
     "metadata": {},
     "output_type": "execute_result"
    }
   ],
   "source": [
    "match1.reshape(1, -1)"
   ]
  },
  {
   "cell_type": "code",
   "execution_count": 247,
   "metadata": {},
   "outputs": [
    {
     "data": {
      "text/plain": [
       "array([[ 0.40907708,  0.59092292]])"
      ]
     },
     "execution_count": 247,
     "metadata": {},
     "output_type": "execute_result"
    }
   ],
   "source": [
    "model.predict_proba(match1.reshape(1, -1))"
   ]
  },
  {
   "cell_type": "code",
   "execution_count": 248,
   "metadata": {},
   "outputs": [
    {
     "data": {
      "text/plain": [
       "array([[ 1.        ,  0.        ,  0.        ,  0.        ,  0.        ,\n",
       "         0.        ,  0.        ,  0.        ,  0.        ,  0.58153606,\n",
       "         0.59649123,  0.65625   ,  0.61904762,  1.        ]])"
      ]
     },
     "execution_count": 248,
     "metadata": {},
     "output_type": "execute_result"
    }
   ],
   "source": [
    "X_real.iloc[0,:].values.reshape(1, -1)"
   ]
  },
  {
   "cell_type": "code",
   "execution_count": 249,
   "metadata": {},
   "outputs": [
    {
     "data": {
      "text/plain": [
       "array([[ 0.40907708,  0.59092292]])"
      ]
     },
     "execution_count": 249,
     "metadata": {},
     "output_type": "execute_result"
    }
   ],
   "source": [
    "model.predict_proba(X_real.iloc[180,:].values.reshape(1, -1))"
   ]
  },
  {
   "cell_type": "code",
   "execution_count": 250,
   "metadata": {},
   "outputs": [
    {
     "data": {
      "text/plain": [
       "array([[ True,  True,  True,  True,  True,  True,  True,  True, False,\n",
       "         True,  True,  True,  True,  True,  True,  True,  True,  True,\n",
       "        False,  True, False,  True,  True,  True,  True,  True,  True,\n",
       "         True,  True, False,  True,  True,  True,  True,  True,  True,\n",
       "         True,  True, False,  True,  True, False,  True,  True,  True,\n",
       "         True,  True, False, False, False,  True, False,  True,  True,\n",
       "         True,  True,  True,  True,  True,  True,  True,  True,  True,\n",
       "         True,  True,  True,  True,  True,  True,  True,  True,  True,\n",
       "         True,  True,  True,  True,  True,  True,  True, False, False,\n",
       "         True,  True,  True, False,  True,  True, False, False, False,\n",
       "         True,  True,  True,  True,  True, False,  True,  True,  True,\n",
       "        False, False,  True,  True,  True,  True, False,  True,  True,\n",
       "        False,  True,  True,  True,  True, False,  True,  True,  True,\n",
       "         True,  True,  True, False,  True,  True,  True,  True, False,\n",
       "        False, False,  True,  True,  True,  True,  True,  True,  True,\n",
       "         True, False,  True,  True,  True,  True,  True,  True, False,\n",
       "         True,  True,  True,  True, False,  True, False,  True,  True,\n",
       "        False, False,  True,  True, False,  True,  True,  True,  True,\n",
       "        False, False,  True, False, False,  True,  True, False,  True,\n",
       "        False, False,  True, False,  True,  True,  True,  True, False,\n",
       "        False,  True,  True, False, False,  True, False,  True, False,\n",
       "        False, False, False,  True,  True,  True,  True, False, False,\n",
       "         True, False, False,  True, False, False,  True,  True,  True,\n",
       "         True,  True, False, False, False,  True, False, False, False,\n",
       "        False,  True, False,  True, False,  True, False, False, False,\n",
       "        False,  True,  True, False, False,  True,  True,  True, False,\n",
       "         True, False,  True,  True]], dtype=bool)"
      ]
     },
     "execution_count": 250,
     "metadata": {},
     "output_type": "execute_result"
    }
   ],
   "source": [
    "model.predict(X_real) == y_real.values.reshape(1, -1)"
   ]
  },
  {
   "cell_type": "code",
   "execution_count": 251,
   "metadata": {},
   "outputs": [
    {
     "data": {
      "text/plain": [
       "0.69327731092436973"
      ]
     },
     "execution_count": 251,
     "metadata": {},
     "output_type": "execute_result"
    }
   ],
   "source": [
    "np.sum( (model.predict(X_real) == y_real.values.reshape(1, -1)).astype(int) )/len(y_real)"
   ]
  },
  {
   "cell_type": "markdown",
   "metadata": {},
   "source": [
    "PREDICTION ACCURACY:   69%"
   ]
  },
  {
   "cell_type": "code",
   "execution_count": null,
   "metadata": {},
   "outputs": [],
   "source": []
  },
  {
   "cell_type": "code",
   "execution_count": null,
   "metadata": {},
   "outputs": [],
   "source": []
  },
  {
   "cell_type": "code",
   "execution_count": null,
   "metadata": {},
   "outputs": [],
   "source": []
  },
  {
   "cell_type": "code",
   "execution_count": null,
   "metadata": {
    "collapsed": true
   },
   "outputs": [],
   "source": []
  }
 ],
 "metadata": {
  "kernelspec": {
   "display_name": "Python 3",
   "language": "python",
   "name": "python3"
  },
  "language_info": {
   "codemirror_mode": {
    "name": "ipython",
    "version": 3
   },
   "file_extension": ".py",
   "mimetype": "text/x-python",
   "name": "python",
   "nbconvert_exporter": "python",
   "pygments_lexer": "ipython3",
   "version": "3.6.3"
  },
  "toc": {
   "nav_menu": {},
   "number_sections": true,
   "sideBar": true,
   "skip_h1_title": false,
   "title_cell": "Table of Contents",
   "title_sidebar": "Contents",
   "toc_cell": false,
   "toc_position": {},
   "toc_section_display": true,
   "toc_window_display": false
  }
 },
 "nbformat": 4,
 "nbformat_minor": 2
}
