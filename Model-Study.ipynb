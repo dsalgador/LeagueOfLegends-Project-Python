{
 "cells": [
  {
   "cell_type": "markdown",
   "metadata": {},
   "source": [
    "# Open data analysis and model to predict the League of Legends World Championship (Python version)"
   ]
  },
  {
   "cell_type": "code",
   "execution_count": 15,
   "metadata": {},
   "outputs": [],
   "source": [
    "import pandas as pd\n",
    "import numpy as np\n",
    "import matplotlib.pyplot as plt\n",
    "import os\n",
    "\n",
    "#directory_changed = False ## un comment this only the first time this cell is run\n",
    "\n",
    "if(directory_changed == False):\n",
    "    current_path = os.getcwd()\n",
    "    inputs_path = current_path + '/data'\n",
    "    os.chdir(inputs_path)\n",
    "\n",
    "train_file = 'train_data.csv'\n",
    "test_file = 'test_data.csv'\n",
    "\n",
    "directory_changed = True"
   ]
  },
  {
   "cell_type": "code",
   "execution_count": 2,
   "metadata": {},
   "outputs": [],
   "source": [
    "train_df= pd.read_csv(train_file)\n",
    "test_df = pd.read_csv(test_file)"
   ]
  },
  {
   "cell_type": "code",
   "execution_count": 3,
   "metadata": {},
   "outputs": [
    {
     "data": {
      "text/html": [
       "<div>\n",
       "<style>\n",
       "    .dataframe thead tr:only-child th {\n",
       "        text-align: right;\n",
       "    }\n",
       "\n",
       "    .dataframe thead th {\n",
       "        text-align: left;\n",
       "    }\n",
       "\n",
       "    .dataframe tbody tr th {\n",
       "        vertical-align: top;\n",
       "    }\n",
       "</style>\n",
       "<table border=\"1\" class=\"dataframe\">\n",
       "  <thead>\n",
       "    <tr style=\"text-align: right;\">\n",
       "      <th></th>\n",
       "      <th>result</th>\n",
       "      <th>team</th>\n",
       "      <th>side</th>\n",
       "      <th>topwr_champ</th>\n",
       "      <th>jngwr_champ</th>\n",
       "      <th>midwr_champ</th>\n",
       "      <th>adcwr_champ</th>\n",
       "      <th>supwr_champ</th>\n",
       "      <th>topwr_player</th>\n",
       "      <th>jngwr_player</th>\n",
       "      <th>midwr_player</th>\n",
       "      <th>adcwr_player</th>\n",
       "      <th>supwr_player</th>\n",
       "    </tr>\n",
       "  </thead>\n",
       "  <tbody>\n",
       "    <tr>\n",
       "      <th>0</th>\n",
       "      <td>1</td>\n",
       "      <td>Team WE</td>\n",
       "      <td>Blue</td>\n",
       "      <td>0.5000</td>\n",
       "      <td>0.4954</td>\n",
       "      <td>0.4928</td>\n",
       "      <td>0.5008</td>\n",
       "      <td>0.5318</td>\n",
       "      <td>0.581536</td>\n",
       "      <td>0.596491</td>\n",
       "      <td>0.656250</td>\n",
       "      <td>0.619048</td>\n",
       "      <td>1.000000</td>\n",
       "    </tr>\n",
       "    <tr>\n",
       "      <th>1</th>\n",
       "      <td>0</td>\n",
       "      <td>Lyon Gaming</td>\n",
       "      <td>Red</td>\n",
       "      <td>0.5000</td>\n",
       "      <td>0.5046</td>\n",
       "      <td>0.5072</td>\n",
       "      <td>0.4992</td>\n",
       "      <td>0.4682</td>\n",
       "      <td>0.545455</td>\n",
       "      <td>0.777778</td>\n",
       "      <td>0.500000</td>\n",
       "      <td>0.000000</td>\n",
       "      <td>0.600000</td>\n",
       "    </tr>\n",
       "    <tr>\n",
       "      <th>2</th>\n",
       "      <td>1</td>\n",
       "      <td>Cloud9</td>\n",
       "      <td>Blue</td>\n",
       "      <td>0.4391</td>\n",
       "      <td>0.4966</td>\n",
       "      <td>0.5562</td>\n",
       "      <td>0.5008</td>\n",
       "      <td>0.4786</td>\n",
       "      <td>0.700000</td>\n",
       "      <td>0.563228</td>\n",
       "      <td>0.733333</td>\n",
       "      <td>0.555556</td>\n",
       "      <td>0.636364</td>\n",
       "    </tr>\n",
       "    <tr>\n",
       "      <th>3</th>\n",
       "      <td>0</td>\n",
       "      <td>Team oNe Esports</td>\n",
       "      <td>Red</td>\n",
       "      <td>0.5609</td>\n",
       "      <td>0.5034</td>\n",
       "      <td>0.4438</td>\n",
       "      <td>0.4992</td>\n",
       "      <td>0.5214</td>\n",
       "      <td>0.500000</td>\n",
       "      <td>0.500000</td>\n",
       "      <td>0.000000</td>\n",
       "      <td>0.000000</td>\n",
       "      <td>0.000000</td>\n",
       "    </tr>\n",
       "    <tr>\n",
       "      <th>4</th>\n",
       "      <td>0</td>\n",
       "      <td>Gambit Esports</td>\n",
       "      <td>Blue</td>\n",
       "      <td>0.4837</td>\n",
       "      <td>0.4750</td>\n",
       "      <td>0.3970</td>\n",
       "      <td>0.4912</td>\n",
       "      <td>0.4950</td>\n",
       "      <td>0.333333</td>\n",
       "      <td>0.588235</td>\n",
       "      <td>0.500000</td>\n",
       "      <td>0.500000</td>\n",
       "      <td>0.500000</td>\n",
       "    </tr>\n",
       "  </tbody>\n",
       "</table>\n",
       "</div>"
      ],
      "text/plain": [
       "   result              team  side  topwr_champ  jngwr_champ  midwr_champ  \\\n",
       "0       1           Team WE  Blue       0.5000       0.4954       0.4928   \n",
       "1       0       Lyon Gaming   Red       0.5000       0.5046       0.5072   \n",
       "2       1            Cloud9  Blue       0.4391       0.4966       0.5562   \n",
       "3       0  Team oNe Esports   Red       0.5609       0.5034       0.4438   \n",
       "4       0    Gambit Esports  Blue       0.4837       0.4750       0.3970   \n",
       "\n",
       "   adcwr_champ  supwr_champ  topwr_player  jngwr_player  midwr_player  \\\n",
       "0       0.5008       0.5318      0.581536      0.596491      0.656250   \n",
       "1       0.4992       0.4682      0.545455      0.777778      0.500000   \n",
       "2       0.5008       0.4786      0.700000      0.563228      0.733333   \n",
       "3       0.4992       0.5214      0.500000      0.500000      0.000000   \n",
       "4       0.4912       0.4950      0.333333      0.588235      0.500000   \n",
       "\n",
       "   adcwr_player  supwr_player  \n",
       "0      0.619048      1.000000  \n",
       "1      0.000000      0.600000  \n",
       "2      0.555556      0.636364  \n",
       "3      0.000000      0.000000  \n",
       "4      0.500000      0.500000  "
      ]
     },
     "execution_count": 3,
     "metadata": {},
     "output_type": "execute_result"
    }
   ],
   "source": [
    "train_df.head()"
   ]
  },
  {
   "cell_type": "code",
   "execution_count": 4,
   "metadata": {
    "scrolled": true
   },
   "outputs": [
    {
     "data": {
      "text/html": [
       "<div>\n",
       "<style>\n",
       "    .dataframe thead tr:only-child th {\n",
       "        text-align: right;\n",
       "    }\n",
       "\n",
       "    .dataframe thead th {\n",
       "        text-align: left;\n",
       "    }\n",
       "\n",
       "    .dataframe tbody tr th {\n",
       "        vertical-align: top;\n",
       "    }\n",
       "</style>\n",
       "<table border=\"1\" class=\"dataframe\">\n",
       "  <thead>\n",
       "    <tr style=\"text-align: right;\">\n",
       "      <th></th>\n",
       "      <th>result</th>\n",
       "      <th>team</th>\n",
       "      <th>side</th>\n",
       "      <th>topwr_champ</th>\n",
       "      <th>jngwr_champ</th>\n",
       "      <th>midwr_champ</th>\n",
       "      <th>adcwr_champ</th>\n",
       "      <th>supwr_champ</th>\n",
       "      <th>topwr_player</th>\n",
       "      <th>jngwr_player</th>\n",
       "      <th>midwr_player</th>\n",
       "      <th>adcwr_player</th>\n",
       "      <th>supwr_player</th>\n",
       "    </tr>\n",
       "  </thead>\n",
       "  <tbody>\n",
       "    <tr>\n",
       "      <th>0</th>\n",
       "      <td>0</td>\n",
       "      <td>Longzhu Gaming</td>\n",
       "      <td>Blue</td>\n",
       "      <td>0.4809</td>\n",
       "      <td>0.5204</td>\n",
       "      <td>0.4417</td>\n",
       "      <td>0.4912</td>\n",
       "      <td>0.4975</td>\n",
       "      <td>0.875000</td>\n",
       "      <td>0.333333</td>\n",
       "      <td>0.285714</td>\n",
       "      <td>0.500000</td>\n",
       "      <td>0.660000</td>\n",
       "    </tr>\n",
       "    <tr>\n",
       "      <th>1</th>\n",
       "      <td>1</td>\n",
       "      <td>Samsung Galaxy</td>\n",
       "      <td>Red</td>\n",
       "      <td>0.5191</td>\n",
       "      <td>0.4796</td>\n",
       "      <td>0.5583</td>\n",
       "      <td>0.5088</td>\n",
       "      <td>0.5025</td>\n",
       "      <td>0.529412</td>\n",
       "      <td>0.750000</td>\n",
       "      <td>1.000000</td>\n",
       "      <td>0.461538</td>\n",
       "      <td>0.750000</td>\n",
       "    </tr>\n",
       "    <tr>\n",
       "      <th>2</th>\n",
       "      <td>0</td>\n",
       "      <td>Longzhu Gaming</td>\n",
       "      <td>Blue</td>\n",
       "      <td>0.5000</td>\n",
       "      <td>0.5204</td>\n",
       "      <td>0.5003</td>\n",
       "      <td>0.4878</td>\n",
       "      <td>0.4876</td>\n",
       "      <td>0.508497</td>\n",
       "      <td>0.333333</td>\n",
       "      <td>0.666667</td>\n",
       "      <td>0.500000</td>\n",
       "      <td>0.357143</td>\n",
       "    </tr>\n",
       "    <tr>\n",
       "      <th>3</th>\n",
       "      <td>1</td>\n",
       "      <td>Samsung Galaxy</td>\n",
       "      <td>Red</td>\n",
       "      <td>0.5000</td>\n",
       "      <td>0.4796</td>\n",
       "      <td>0.4997</td>\n",
       "      <td>0.5122</td>\n",
       "      <td>0.5124</td>\n",
       "      <td>0.666667</td>\n",
       "      <td>0.750000</td>\n",
       "      <td>0.695652</td>\n",
       "      <td>0.461538</td>\n",
       "      <td>0.500000</td>\n",
       "    </tr>\n",
       "    <tr>\n",
       "      <th>4</th>\n",
       "      <td>1</td>\n",
       "      <td>Samsung Galaxy</td>\n",
       "      <td>Blue</td>\n",
       "      <td>0.4853</td>\n",
       "      <td>0.5222</td>\n",
       "      <td>0.4984</td>\n",
       "      <td>0.5122</td>\n",
       "      <td>0.5497</td>\n",
       "      <td>0.666667</td>\n",
       "      <td>0.750000</td>\n",
       "      <td>0.625000</td>\n",
       "      <td>0.461538</td>\n",
       "      <td>0.500000</td>\n",
       "    </tr>\n",
       "  </tbody>\n",
       "</table>\n",
       "</div>"
      ],
      "text/plain": [
       "   result            team  side  topwr_champ  jngwr_champ  midwr_champ  \\\n",
       "0       0  Longzhu Gaming  Blue       0.4809       0.5204       0.4417   \n",
       "1       1  Samsung Galaxy   Red       0.5191       0.4796       0.5583   \n",
       "2       0  Longzhu Gaming  Blue       0.5000       0.5204       0.5003   \n",
       "3       1  Samsung Galaxy   Red       0.5000       0.4796       0.4997   \n",
       "4       1  Samsung Galaxy  Blue       0.4853       0.5222       0.4984   \n",
       "\n",
       "   adcwr_champ  supwr_champ  topwr_player  jngwr_player  midwr_player  \\\n",
       "0       0.4912       0.4975      0.875000      0.333333      0.285714   \n",
       "1       0.5088       0.5025      0.529412      0.750000      1.000000   \n",
       "2       0.4878       0.4876      0.508497      0.333333      0.666667   \n",
       "3       0.5122       0.5124      0.666667      0.750000      0.695652   \n",
       "4       0.5122       0.5497      0.666667      0.750000      0.625000   \n",
       "\n",
       "   adcwr_player  supwr_player  \n",
       "0      0.500000      0.660000  \n",
       "1      0.461538      0.750000  \n",
       "2      0.500000      0.357143  \n",
       "3      0.461538      0.500000  \n",
       "4      0.461538      0.500000  "
      ]
     },
     "execution_count": 4,
     "metadata": {},
     "output_type": "execute_result"
    }
   ],
   "source": [
    "test_df.head()"
   ]
  },
  {
   "cell_type": "markdown",
   "metadata": {},
   "source": [
    "We need to convert the *team* and *side* variables to cathegorical variables"
   ]
  },
  {
   "cell_type": "code",
   "execution_count": 8,
   "metadata": {},
   "outputs": [],
   "source": [
    "train_df[\"team\"] = train_df[\"team\"].astype(\"category\")\n",
    "train_df[\"side\"] = train_df[\"side\"].astype(\"category\")"
   ]
  },
  {
   "cell_type": "code",
   "execution_count": 17,
   "metadata": {},
   "outputs": [],
   "source": [
    "teams = train_df[\"team\"].unique()"
   ]
  },
  {
   "cell_type": "code",
   "execution_count": 16,
   "metadata": {},
   "outputs": [
    {
     "data": {
      "text/plain": [
       "<matplotlib.legend.Legend at 0x7f8fbb8fa5c0>"
      ]
     },
     "execution_count": 16,
     "metadata": {},
     "output_type": "execute_result"
    },
    {
     "data": {
      "text/plain": [
       "<matplotlib.figure.Figure at 0x7f8fbb951630>"
      ]
     },
     "metadata": {},
     "output_type": "display_data"
    },
    {
     "data": {
      "image/png": "[encoded data removed]",
      "text/plain": [
       "<matplotlib.figure.Figure at 0x7f8fbb8fa9e8>"
      ]
     },
     "metadata": {},
     "output_type": "display_data"
    }
   ],
   "source": [
    "mean_df = train_df.groupby('team').mean()\n",
    "%matplotlib inline\n",
    "plt.figure(); mean_df.plot(); plt.legend(loc='best')"
   ]
  },
  {
   "cell_type": "markdown",
   "metadata": {},
   "source": [
    "We are going to substitute the *team* feature by the *region* feature. There are 12 different\n",
    "regions where each team can play. Thus we are reducing the dimensionality of *team* from 24\n",
    "to 12.\n",
    "\n",
    "Regions and teams available at: https://lol.gamepedia.com/2017_Season_World_Championship\n",
    "\n",
    "The regions of teams that were not classified to the Groups stage during the Play-in stage are included all\n",
    "in the region catheogry \"Other\".\n"
   ]
  },
  {
   "cell_type": "code",
   "execution_count": 19,
   "metadata": {},
   "outputs": [
    {
     "name": "stdout",
     "output_type": "stream",
     "text": [
      "Team WE\n",
      "Lyon Gaming\n",
      "Cloud9\n",
      "Team oNe Esports\n",
      "Gambit Esports\n",
      "Dire Wolves\n",
      "Young Generation\n",
      "Kaos Latin Gamers\n",
      "Rampage\n",
      "Hong Kong Attitude\n",
      "Fnatic\n",
      "Fenerbahce Esports\n",
      "Royal Never Give Up\n",
      "G2 Esports\n",
      "Samsung Galaxy\n",
      "Longzhu Gaming\n",
      "Immortals\n",
      "Gigabyte Marines\n",
      "SK Telecom T1\n",
      "EDward Gaming\n",
      "AHQ e-Sports Club\n",
      "Flash Wolves\n",
      "Team SoloMid\n",
      "Misfits\n"
     ]
    }
   ],
   "source": [
    "for team in teams:\n",
    "    print(team)"
   ]
  },
  {
   "cell_type": "code",
   "execution_count": 23,
   "metadata": {},
   "outputs": [],
   "source": [
    "team2region = {\n",
    "    'Team WE': 'CN',\n",
    "    'Lyon Gaming': 'Other',\n",
    "    'Cloud9': 'NA',\n",
    "    'Team oNe Esports': 'Other',\n",
    "    'Gambit Esports': 'Other',\n",
    "    'Dire Wolves': 'Other',\n",
    "    'Young Generation': 'Other',\n",
    "    'Kaos Latin Gamers': 'Other',\n",
    "    'Rampage': 'Other',\n",
    "    'Hong Kong Attitude': 'TW',\n",
    "    'Fnatic': 'EU',\n",
    "    'Fenerbahce Esports': 'TR',\n",
    "    'Royal Never Give Up': 'CN',\n",
    "    'G2 Esports': 'EU',\n",
    "    'Samsung Galaxy': 'KR',\n",
    "    'Longzhu Gaming': 'KR',\n",
    "    'Immortals': 'NA',\n",
    "    'Gigabyte Marines': 'SEA',\n",
    "    'SK Telecom T1': 'KR',\n",
    "    'EDward Gaming': 'CN',\n",
    "    'AHQ e-Sports Club': 'TW',\n",
    "    'Flash Wolves': 'TW',\n",
    "    'Team SoloMid': 'NA',\n",
    "    'Misfits': 'EU'\n",
    "}"
   ]
  },
  {
   "cell_type": "code",
   "execution_count": 24,
   "metadata": {},
   "outputs": [
    {
     "data": {
      "text/plain": [
       "'CN'"
      ]
     },
     "execution_count": 24,
     "metadata": {},
     "output_type": "execute_result"
    }
   ],
   "source": [
    "team2region['Team WE']"
   ]
  },
  {
   "cell_type": "code",
   "execution_count": 50,
   "metadata": {},
   "outputs": [],
   "source": [
    "regions = train_df.replace({\"team\": team2region})['team']\n",
    "train_df[\"region\"] = regions\n",
    "test_df[\"region\"] = regions"
   ]
  },
  {
   "cell_type": "code",
   "execution_count": 51,
   "metadata": {},
   "outputs": [
    {
     "data": {
      "text/plain": [
       "0       CN\n",
       "1    Other\n",
       "2       NA\n",
       "3    Other\n",
       "4    Other\n",
       "Name: region, dtype: object"
      ]
     },
     "execution_count": 51,
     "metadata": {},
     "output_type": "execute_result"
    }
   ],
   "source": [
    "train_df[\"region\"].head()"
   ]
  },
  {
   "cell_type": "code",
   "execution_count": 52,
   "metadata": {},
   "outputs": [],
   "source": [
    "features = ['result', 'side', 'region', 'topwr_player', 'jngwr_player',\n",
    "            'midwr_player','adcwr_player','supwr_player' ]\n",
    "train_df2 = train_df.loc[:,features]\n",
    "test_df2 = test_df.loc[:,features]"
   ]
  },
  {
   "cell_type": "code",
   "execution_count": 53,
   "metadata": {},
   "outputs": [
    {
     "data": {
      "text/html": [
       "<div>\n",
       "<style>\n",
       "    .dataframe thead tr:only-child th {\n",
       "        text-align: right;\n",
       "    }\n",
       "\n",
       "    .dataframe thead th {\n",
       "        text-align: left;\n",
       "    }\n",
       "\n",
       "    .dataframe tbody tr th {\n",
       "        vertical-align: top;\n",
       "    }\n",
       "</style>\n",
       "<table border=\"1\" class=\"dataframe\">\n",
       "  <thead>\n",
       "    <tr style=\"text-align: right;\">\n",
       "      <th></th>\n",
       "      <th>result</th>\n",
       "      <th>side</th>\n",
       "      <th>region</th>\n",
       "      <th>topwr_player</th>\n",
       "      <th>jngwr_player</th>\n",
       "      <th>midwr_player</th>\n",
       "      <th>adcwr_player</th>\n",
       "      <th>supwr_player</th>\n",
       "    </tr>\n",
       "  </thead>\n",
       "  <tbody>\n",
       "    <tr>\n",
       "      <th>0</th>\n",
       "      <td>1</td>\n",
       "      <td>Blue</td>\n",
       "      <td>CN</td>\n",
       "      <td>0.581536</td>\n",
       "      <td>0.596491</td>\n",
       "      <td>0.656250</td>\n",
       "      <td>0.619048</td>\n",
       "      <td>1.000000</td>\n",
       "    </tr>\n",
       "    <tr>\n",
       "      <th>1</th>\n",
       "      <td>0</td>\n",
       "      <td>Red</td>\n",
       "      <td>Other</td>\n",
       "      <td>0.545455</td>\n",
       "      <td>0.777778</td>\n",
       "      <td>0.500000</td>\n",
       "      <td>0.000000</td>\n",
       "      <td>0.600000</td>\n",
       "    </tr>\n",
       "    <tr>\n",
       "      <th>2</th>\n",
       "      <td>1</td>\n",
       "      <td>Blue</td>\n",
       "      <td>NA</td>\n",
       "      <td>0.700000</td>\n",
       "      <td>0.563228</td>\n",
       "      <td>0.733333</td>\n",
       "      <td>0.555556</td>\n",
       "      <td>0.636364</td>\n",
       "    </tr>\n",
       "    <tr>\n",
       "      <th>3</th>\n",
       "      <td>0</td>\n",
       "      <td>Red</td>\n",
       "      <td>Other</td>\n",
       "      <td>0.500000</td>\n",
       "      <td>0.500000</td>\n",
       "      <td>0.000000</td>\n",
       "      <td>0.000000</td>\n",
       "      <td>0.000000</td>\n",
       "    </tr>\n",
       "    <tr>\n",
       "      <th>4</th>\n",
       "      <td>0</td>\n",
       "      <td>Blue</td>\n",
       "      <td>Other</td>\n",
       "      <td>0.333333</td>\n",
       "      <td>0.588235</td>\n",
       "      <td>0.500000</td>\n",
       "      <td>0.500000</td>\n",
       "      <td>0.500000</td>\n",
       "    </tr>\n",
       "  </tbody>\n",
       "</table>\n",
       "</div>"
      ],
      "text/plain": [
       "   result  side region  topwr_player  jngwr_player  midwr_player  \\\n",
       "0       1  Blue     CN      0.581536      0.596491      0.656250   \n",
       "1       0   Red  Other      0.545455      0.777778      0.500000   \n",
       "2       1  Blue     NA      0.700000      0.563228      0.733333   \n",
       "3       0   Red  Other      0.500000      0.500000      0.000000   \n",
       "4       0  Blue  Other      0.333333      0.588235      0.500000   \n",
       "\n",
       "   adcwr_player  supwr_player  \n",
       "0      0.619048      1.000000  \n",
       "1      0.000000      0.600000  \n",
       "2      0.555556      0.636364  \n",
       "3      0.000000      0.000000  \n",
       "4      0.500000      0.500000  "
      ]
     },
     "execution_count": 53,
     "metadata": {},
     "output_type": "execute_result"
    }
   ],
   "source": [
    "train_df2.head()"
   ]
  },
  {
   "cell_type": "code",
   "execution_count": 54,
   "metadata": {},
   "outputs": [
    {
     "data": {
      "text/html": [
       "<div>\n",
       "<style>\n",
       "    .dataframe thead tr:only-child th {\n",
       "        text-align: right;\n",
       "    }\n",
       "\n",
       "    .dataframe thead th {\n",
       "        text-align: left;\n",
       "    }\n",
       "\n",
       "    .dataframe tbody tr th {\n",
       "        vertical-align: top;\n",
       "    }\n",
       "</style>\n",
       "<table border=\"1\" class=\"dataframe\">\n",
       "  <thead>\n",
       "    <tr style=\"text-align: right;\">\n",
       "      <th></th>\n",
       "      <th>result</th>\n",
       "      <th>side</th>\n",
       "      <th>region</th>\n",
       "      <th>topwr_player</th>\n",
       "      <th>jngwr_player</th>\n",
       "      <th>midwr_player</th>\n",
       "      <th>adcwr_player</th>\n",
       "      <th>supwr_player</th>\n",
       "    </tr>\n",
       "  </thead>\n",
       "  <tbody>\n",
       "    <tr>\n",
       "      <th>0</th>\n",
       "      <td>0</td>\n",
       "      <td>Blue</td>\n",
       "      <td>CN</td>\n",
       "      <td>0.875000</td>\n",
       "      <td>0.333333</td>\n",
       "      <td>0.285714</td>\n",
       "      <td>0.500000</td>\n",
       "      <td>0.660000</td>\n",
       "    </tr>\n",
       "    <tr>\n",
       "      <th>1</th>\n",
       "      <td>1</td>\n",
       "      <td>Red</td>\n",
       "      <td>Other</td>\n",
       "      <td>0.529412</td>\n",
       "      <td>0.750000</td>\n",
       "      <td>1.000000</td>\n",
       "      <td>0.461538</td>\n",
       "      <td>0.750000</td>\n",
       "    </tr>\n",
       "    <tr>\n",
       "      <th>2</th>\n",
       "      <td>0</td>\n",
       "      <td>Blue</td>\n",
       "      <td>NA</td>\n",
       "      <td>0.508497</td>\n",
       "      <td>0.333333</td>\n",
       "      <td>0.666667</td>\n",
       "      <td>0.500000</td>\n",
       "      <td>0.357143</td>\n",
       "    </tr>\n",
       "    <tr>\n",
       "      <th>3</th>\n",
       "      <td>1</td>\n",
       "      <td>Red</td>\n",
       "      <td>Other</td>\n",
       "      <td>0.666667</td>\n",
       "      <td>0.750000</td>\n",
       "      <td>0.695652</td>\n",
       "      <td>0.461538</td>\n",
       "      <td>0.500000</td>\n",
       "    </tr>\n",
       "    <tr>\n",
       "      <th>4</th>\n",
       "      <td>1</td>\n",
       "      <td>Blue</td>\n",
       "      <td>Other</td>\n",
       "      <td>0.666667</td>\n",
       "      <td>0.750000</td>\n",
       "      <td>0.625000</td>\n",
       "      <td>0.461538</td>\n",
       "      <td>0.500000</td>\n",
       "    </tr>\n",
       "  </tbody>\n",
       "</table>\n",
       "</div>"
      ],
      "text/plain": [
       "   result  side region  topwr_player  jngwr_player  midwr_player  \\\n",
       "0       0  Blue     CN      0.875000      0.333333      0.285714   \n",
       "1       1   Red  Other      0.529412      0.750000      1.000000   \n",
       "2       0  Blue     NA      0.508497      0.333333      0.666667   \n",
       "3       1   Red  Other      0.666667      0.750000      0.695652   \n",
       "4       1  Blue  Other      0.666667      0.750000      0.625000   \n",
       "\n",
       "   adcwr_player  supwr_player  \n",
       "0      0.500000      0.660000  \n",
       "1      0.461538      0.750000  \n",
       "2      0.500000      0.357143  \n",
       "3      0.461538      0.500000  \n",
       "4      0.461538      0.500000  "
      ]
     },
     "execution_count": 54,
     "metadata": {},
     "output_type": "execute_result"
    }
   ],
   "source": [
    "test_df2.head()"
   ]
  },
  {
   "cell_type": "code",
   "execution_count": null,
   "metadata": {
    "collapsed": true
   },
   "outputs": [],
   "source": []
  },
  {
   "cell_type": "code",
   "execution_count": null,
   "metadata": {
    "collapsed": true
   },
   "outputs": [],
   "source": []
  }
 ],
 "metadata": {
  "kernelspec": {
   "display_name": "Python 3",
   "language": "python",
   "name": "python3"
  },
  "language_info": {
   "codemirror_mode": {
    "name": "ipython",
    "version": 3
   },
   "file_extension": ".py",
   "mimetype": "text/x-python",
   "name": "python",
   "nbconvert_exporter": "python",
   "pygments_lexer": "ipython3",
   "version": "3.6.3"
  },
  "toc": {
   "nav_menu": {},
   "number_sections": true,
   "sideBar": true,
   "skip_h1_title": false,
   "title_cell": "Table of Contents",
   "title_sidebar": "Contents",
   "toc_cell": false,
   "toc_position": {},
   "toc_section_display": true,
   "toc_window_display": false
  }
 },
 "nbformat": 4,
 "nbformat_minor": 2
}
